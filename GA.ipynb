{
 "cells": [
  {
   "cell_type": "code",
   "execution_count": 1,
   "metadata": {
    "ExecuteTime": {
     "end_time": "2022-04-26T12:28:04.670815Z",
     "start_time": "2022-04-26T12:27:59.547387Z"
    }
   },
   "outputs": [],
   "source": [
    "from module_Plot import Plotting\n",
    "from module_Analyses_structure import Analyses as ana\n",
    "\n",
    "import seaborn as sns\n",
    "import matplotlib.pyplot as plt\n",
    "from matplotlib import ticker, cm, colors\n",
    "\n",
    "import cartopy.crs as ccrs\n",
    "\n",
    "import numpy as np\n",
    "import pandas as pd\n",
    "import vaex as ve\n",
    "import os\n",
    "from glob import glob\n",
    "\n",
    "plt.rcParams['axes.unicode_minus'] = False\n"
   ]
  },
  {
   "cell_type": "code",
   "execution_count": 2,
   "metadata": {
    "ExecuteTime": {
     "end_time": "2022-04-26T12:28:04.717530Z",
     "start_time": "2022-04-26T12:28:04.706532Z"
    }
   },
   "outputs": [],
   "source": [
    "DIR_case = r'E:\\data\\_results\\common_radar\\case_sele'\n",
    "fn_case = 'TRMMKu-93121_GPM-356_dT-3.8_BRpixel2715_grp64_p1..2014-03-22_13+12+42..2014-03-22_13+08+52..h5'\n",
    "icase = os.path.join(DIR_case, fn_case)\n",
    "\n",
    "vslices = [[126.6, 12.8], [129.9, 9.1]]\n",
    "ll_resolution, slice_ymax = 1./30., 16\n",
    "\n"
   ]
  },
  {
   "cell_type": "code",
   "execution_count": 3,
   "metadata": {
    "ExecuteTime": {
     "end_time": "2022-04-26T12:28:06.026318Z",
     "start_time": "2022-04-26T12:28:05.546307Z"
    }
   },
   "outputs": [
    {
     "data": {
      "text/plain": [
       "((10801, 5401), (10801, 5401))"
      ]
     },
     "execution_count": 3,
     "metadata": {},
     "output_type": "execute_result"
    }
   ],
   "source": [
    "import netCDF4 as nc\n",
    "terrain_file = r'D:\\static_data\\terrain\\ETOPO2v2g_f4.nc'\n",
    "terr = nc.Dataset(terrain_file)\n",
    "terr.set_auto_mask(False) \n",
    "\n",
    "Lon_terr = terr.variables['x'][:]\n",
    "Lat_terr = terr.variables['y'][:]\n",
    "Terrain = terr.variables['z'][:,:].T / 1000  # 单位转为km\n",
    "terr.close()\n",
    "\n",
    "Lat_grid, Lon_grid = np.meshgrid(Lat_terr, Lon_terr)\n",
    "Lon_grid.shape, Lat_grid.shape"
   ]
  },
  {
   "cell_type": "code",
   "execution_count": 4,
   "metadata": {
    "ExecuteTime": {
     "end_time": "2022-04-26T12:28:09.344591Z",
     "start_time": "2022-04-26T12:28:07.433570Z"
    }
   },
   "outputs": [],
   "source": [
    "from pyresample import geometry, kd_tree\n",
    "from scipy.spatial.distance import pdist, squareform\n",
    "import h5py \n",
    "\n",
    "hgt = np.arange(0., 22., 0.125)[::-1].astype(np.float32)\n",
    "\n",
    "#############\n",
    "def gernerate_points(llpts, line_interp=True):\n",
    "#    等间隔地生成二维直角坐标系下两点间连线上的点.包含端点两点共npts个点.\n",
    "    dists = squareform(pdist(llpts))\n",
    "    dists = dists[(np.arange(dists.shape[0]-1), np.arange(dists.shape[0]-1)+1)]\n",
    "    if line_interp:\n",
    "        xp, yp = np.empty(0), np.empty(0)\n",
    "        for idx, p1 in enumerate(llpts[1:]):\n",
    "            p0 = llpts[idx]\n",
    "            npts = int(np.ceil(dists[idx]/ll_resolution))\n",
    "            xtmp = np.linspace(p0[0], p1[0], npts)\n",
    "            xp = np.hstack([xp, xtmp])                \n",
    "\n",
    "            if np.isclose((p1[0] - p0[0]), 0):   # S-N direction\n",
    "                yp = np.hstack([yp, np.linspace(p0[1], p1[1], npts)])\n",
    "            else:\n",
    "                k = (p1[1] - p0[1]) / (p1[0] - p0[0])\n",
    "                if np.isclose(k, 0):   # W-E direction\n",
    "                    yp = np.hstack([yp, np.full(npts, p1[1])])\n",
    "                else:\n",
    "                    b = p1[1] - k * p1[0]\n",
    "                    yp = np.hstack([yp, k * xtmp + b])\n",
    "    else:\n",
    "        xp, yp = llpts[:,0], llpts[:,1]\n",
    "\n",
    "    return xp, yp\n",
    "\n",
    "\n",
    "def generat_slice(da3D, Lon1D, Lat1D, llpts_end, is_terr=True):\n",
    "    xp, yp = gernerate_points(llpts_end)    \n",
    "#    print('xp=',xp,'\\nyp=', yp)\n",
    "    swath_base = geometry.SwathDefinition(Lon1D, Lat1D)   \n",
    "    swath_aim = geometry.SwathDefinition(xp, yp)\n",
    "#    print(Lon1D.shape, da3D.shape)\n",
    "    \n",
    "#    valid_input_index, valid_output_index, index_array, distance_array = \\\n",
    "#                                kd_tree.get_neighbour_info(swath_base, swath_aim, 5000, neighbours=1)  \n",
    "    Vslice = kd_tree.resample_nearest(swath_base, da3D, swath_aim, radius_of_influence=5000)\n",
    " \n",
    "    if is_terr:\n",
    "        grid_base = geometry.GridDefinition(lons=Lon_grid, lats=Lat_grid) \n",
    "        z_terrain = kd_tree.resample_nearest(grid_base, Terrain, swath_aim, radius_of_influence=5000)\n",
    "    else:\n",
    "        z_terrain = np.array(0)\n",
    "    return (xp, yp), Vslice, z_terrain\n"
   ]
  },
  {
   "cell_type": "code",
   "execution_count": 5,
   "metadata": {
    "ExecuteTime": {
     "end_time": "2022-04-26T12:28:38.472969Z",
     "start_time": "2022-04-26T12:28:29.971974Z"
    }
   },
   "outputs": [],
   "source": [
    "\n",
    "def calc_cross_pts(VA, VB, rngs):\n",
    "    Ks, Bs = [], []\n",
    "    for La in VA:\n",
    "        Ks.append( (La[1][0] - La[1][1])/(La[0][0] - La[0][1]) )\n",
    "        Bs.append( La[1][0] - Ks[-1]*La[0][0] )\n",
    "\n",
    "    for La in VB:\n",
    "        Ks.append( (La[1][0] - La[1][1])/(La[0][0] - La[0][1]) )\n",
    "        Bs.append( La[1][0] - Ks[-1]*La[0][0] )\n",
    "    \n",
    "    X, Y = [], []\n",
    "    for idx in [0, 1]:\n",
    "        for jdx in [2, 3]:\n",
    "            X.append( -(Bs[idx] - Bs[jdx]) / (Ks[idx] - Ks[jdx]) )\n",
    "            Y.append( Ks[idx]*X[-1]+Bs[idx]  )\n",
    "    \n",
    "    X, Y = np.array(X), np.array(Y)    \n",
    "    res = [[X[0], X[1], X[-1], X[-2], X[0]],\n",
    "           [Y[0], Y[1], Y[-1], Y[-2], Y[0]]]\n",
    "    return res\n",
    "\n",
    "##########\n",
    "ANA_handler = ana(['','',''])\n",
    "\n",
    "cases = {}\n",
    "for idx, fn in enumerate([icase]):\n",
    "    handle = h5py.File(fn, 'r')\n",
    "    cases[idx] = {key: val[:] for key, val in handle.items()}\n",
    "    cases[idx]['TRMM_Orbit'], cases[idx]['GPM_Orbit'] = cases[idx].pop('orbit')\n",
    "    #cases[idx]['TRMM_Time'], cases[idx]['GPM_Time'] = fn.replace('+', ':').replace('_', ' ').split('..')[1:-1]\n",
    "    \n",
    "    cases[idx]['dT'] = fn.split('dT')[-1].split('_')[0]\n",
    "    '''\n",
    "    cases[idx]['levs_dBZ'], cases[idx]['unit_dBZ'] = ANA_handler.rainfall_levs('nearSurfdBZ'.lower(), \n",
    "               max(np.nanmax(cases[idx]['TRMM_nearSurfdBZ']), np.nanmax(cases[idx]['GPM_nearSurfdBZ'])))\n",
    "    '''\n",
    "    cases[idx]['levs_dBZ'], cases[idx]['unit_dBZ'] = np.arange(12,61,2), 'dBZ'           \n",
    "    cases[idx]['levs_RR'], cases[idx]['unit_RR'] = ANA_handler.rainfall_levs('nearSurfRain'.lower(), \n",
    "               max(np.nanmax(cases[idx]['TRMM_nearSurfRain']), np.nanmax(cases[idx]['GPM_nearSurfRain'])))\n",
    "    \n",
    "    vertexsA = [[cases[idx]['X0'][[0, -1],0], cases[idx]['Y0'][[0, -1],0]],\n",
    "                [cases[idx]['X0'][[0, -1],-1], cases[idx]['Y0'][[0, -1],-1]]]\n",
    "    vertexsB = [[cases[idx]['X1'][[0, -1],0], cases[idx]['Y1'][[0, -1],0]],\n",
    "                [cases[idx]['X1'][[0, -1],-1], cases[idx]['Y1'][[0, -1],-1]]]\n",
    "    cases[idx]['edge_lines'] = calc_cross_pts(VA=vertexsA, VB=vertexsB, rngs=cases[idx]['ll_rng'])\n",
    "    \n",
    "    cases[idx]['name'] = fn.split('..')[0]\n",
    "    \n",
    "    ### resign values\n",
    "    cases[idx]['ll_rng'] = [np.array(cases[idx]['edge_lines'][0]).min(),\n",
    "                            np.array(cases[idx]['edge_lines'][0]).max(),\n",
    "                            np.array(cases[idx]['edge_lines'][1]).min(),\n",
    "                            np.array(cases[idx]['edge_lines'][1]).max()]\n",
    "    cases[idx]['slice_pts'] = np.array(vslices)\n",
    "    cases[idx]['symax'] = slice_ymax\n",
    "    \n",
    "    cases[idx]['slice_coords'], cases[idx]['TRMM_slice'], cases[idx]['terrain'] = generat_slice(cases[idx]['TRMM_profile'], \n",
    "                                                                         cases[idx]['X0'].ravel(), \n",
    "                                                                         cases[idx]['Y0'].ravel(), \n",
    "                                                                         cases[idx]['slice_pts'])\n",
    "    _, cases[idx]['GPM_slice'], _ = generat_slice(cases[idx]['GPM_profile'], \n",
    "                                                                         cases[idx]['X1'].ravel(), \n",
    "                                                                         cases[idx]['Y1'].ravel(), \n",
    "                                                                         cases[idx]['slice_pts'],\n",
    "                                                 is_terr=False)\n",
    "    \n",
    "    del handle\n",
    "del ANA_handler"
   ]
  },
  {
   "cell_type": "code",
   "execution_count": 6,
   "metadata": {
    "ExecuteTime": {
     "end_time": "2022-04-26T12:28:39.865872Z",
     "start_time": "2022-04-26T12:28:39.852854Z"
    }
   },
   "outputs": [],
   "source": [
    "## scatter\n",
    "loc_main = r'E:\\data\\_results\\common_radar\\used_data'\n",
    "\n",
    "fn_20dBZ_Htop = os.path.join(loc_main, '_TG_2D_flag.csv')\n",
    "\n",
    "base_legend = ['TRMM_PR', 'GPM_KuPR']\n",
    "\n",
    "sfcType_sep = ['LandOcean_GPMKu']\n",
    "sfcType = {0: 'Ocean', 1: 'Land'} # , 2: 'Coast'\n",
    "\n",
    "rainType = {1: 'Stratiform', 2: 'Convective'}\n",
    "\n",
    "self_colors = ['dodgerblue', 'salmon', 'limegreen', 'black']\n",
    "linestyles = ['-', '--', ':', '-.']\n",
    "\n",
    "properties = {'dBZ20_Htop': ['dBZ20_Htop (km)', 0.25, [0,20], \n",
    "                            ['dBZ20_Htop_TRMMKu', 'dBZ20_Htop_GPMKu', 'DLT_dBZ20_Htop', 'LandOcean_GPMKu'], \n",
    "                             1, [-10, 10]], \n",
    "             'dBZ35_Htop': ['dBZ35_Htop (km)', 0.25, [0,20], \n",
    "                            ['dBZ35_Htop_TRMMKu', 'dBZ35_Htop_GPMKu', 'DLT_dBZ35_Htop', 'LandOcean_GPMKu'], \n",
    "                            1, [-10, 10]], \n",
    "             'nearSurfdBZ': ['nearSurfdBZ (dBZ)', 1, [10,65], \n",
    "                             ['nearSurfdBZ_TRMMKu', 'nearSurfdBZ_GPMKu', 'DLT_nearSurfdBZ', 'LandOcean_GPMKu'], \n",
    "                             2, [-35, 35]],\n",
    "             'nearSurfRain': [r'nearSurfRain (10$^x$ mm h$^{-1}$)', 0.1, [-1,3], \n",
    "                             ['nearSurfRain_TRMMKu', 'nearSurfRain_GPMKu', 'DLT_nearSurfRain', 'LandOcean_GPMKu'], \n",
    "                              0.1, [-3, 3]]}\n",
    "thh_dBZ_GPM, thh_dBZ_TRMM = 18, 18  # dBZ\n",
    "\n",
    "# constant defination of 1to1 comparison\n",
    "bins_coincide = np.arange(0, 20.01, 0.25)\n",
    "\n",
    "levs_coincide = np.array([1, 5 ]+list(np.arange(10,101, 5)))  # percentage\n",
    "cb_labs = [1] + list(np.arange(10,101, 10))\n",
    "\n",
    "tick_loc = [3,1,3,1]"
   ]
  },
  {
   "cell_type": "code",
   "execution_count": 7,
   "metadata": {
    "ExecuteTime": {
     "end_time": "2022-04-26T12:28:46.267352Z",
     "start_time": "2022-04-26T12:28:44.799374Z"
    }
   },
   "outputs": [
    {
     "data": {
      "text/plain": [
       "(Index(['Time_TRMMKu', 'Time_GPMKu', 'dlt_Dm', 'dlt_Tsec', 'orbitID_TRMMKu',\n",
       "        'loc_x_TRMMKu', 'loc_y_TRMMKu', 'orbitID_GPMKu', 'loc_x_GPMKu',\n",
       "        'loc_y_GPMKu', 'Lon_TRMMKu', 'Lat_TRMMKu', 'LocalHour_TRMMKu',\n",
       "        'nearSurfRain_TRMMKu', 'dBZ20_Htop_TRMMKu', 'dBZ35_Htop_TRMMKu',\n",
       "        'rainType_TRMMKu', 'HBB_TRMMKu', 'Lon_GPMKu', 'Lat_GPMKu',\n",
       "        'LocalHour_GPMKu', 'nearSurfRain_GPMKu', 'dBZ20_Htop_GPMKu',\n",
       "        'dBZ35_Htop_GPMKu', 'LandOcean_GPMKu', 'rainType_GPMKu', 'HBB_GPMKu',\n",
       "        'nearSurfdBZ_TRMMKu', 'surfRainPhase_TRMMKu', 'nearSurfdBZ_GPMKu',\n",
       "        'surfRainPhase_GPMKu', 'dBZ20_Npxl_TRMMKu', 'dBZ35_Npxl_TRMMKu',\n",
       "        'dBZ20_Npxl_GPMKu', 'dBZ35_Npxl_GPMKu', 'profile_TRMM', 'profile_GPM',\n",
       "        'GmT_Yloc_M', 'GmT_Yloc_L', 'GmT_Yloc_R', 'nearSurfRain_TRMMKu_log10',\n",
       "        'nearSurfRain_GPMKu_log10'],\n",
       "       dtype='object'),\n",
       " (97619, 42))"
      ]
     },
     "execution_count": 7,
     "metadata": {},
     "output_type": "execute_result"
    }
   ],
   "source": [
    "df_dBZ20 = pd.read_csv(fn_20dBZ_Htop, compression='gzip')\n",
    "df_dBZ20 = df_dBZ20.query(f'(dBZ20_Htop_TRMMKu > 0) & (dBZ20_Htop_GPMKu > 0) & (nearSurfdBZ_TRMMKu>={thh_dBZ_TRMM}) & (nearSurfdBZ_GPMKu>={thh_dBZ_GPM})')\n",
    "df_dBZ20.columns, df_dBZ20.shape"
   ]
  },
  {
   "cell_type": "code",
   "execution_count": 8,
   "metadata": {
    "ExecuteTime": {
     "end_time": "2022-04-26T12:28:51.219796Z",
     "start_time": "2022-04-26T12:28:51.203815Z"
    }
   },
   "outputs": [],
   "source": [
    "# long-term\n",
    "loc_raw = r'E:\\data\\_results\\common_radar\\used_data'\n",
    "loc_res = r'E:\\data\\_results\\records'\n",
    "\n",
    "cols_all = {'Year': np.int32, 'Month': np.int32, 'DayOfMonth': np.int32, 'LocalHour': np.float32, \n",
    "        'Longitude': np.float32, 'Latitude': np.float32, \n",
    "        'LandOcean': np.int32, 'rainType': np.int32, \n",
    "        'ku_dBZ20_Htop': np.float32, 'ku_dBZ35_Htop': np.float32, 'nearSurfZ': np.float32, 'nearSurfRain': np.float32\n",
    "       }\n",
    "\n",
    "cols = ['Year', 'Month', 'Longitude', 'Latitude',  #'DayOfMonth', \n",
    "        'LandOcean', 'rainType', 'ku_dBZ20_Htop', 'ku_dBZ35_Htop', 'nearSurfZ'] #\n",
    "\n",
    "fn_TRMM = os.path.join(loc_raw, 'TRMM_Rainfall_pixels_ku_dBZ_Htop_1998_2014.h5')\n",
    "fn_GPM = os.path.join(loc_raw, 'GPM_Rainfall_pixels_ku_dBZ_Htop_2014_2020.h5')\n",
    "\n",
    "rng_lat = [-36.2, 36.2]\n",
    "lims_lat = [[-36.2, -20], [-20, 0], [0, 20], [20, 36.2]]\n"
   ]
  },
  {
   "cell_type": "code",
   "execution_count": 9,
   "metadata": {
    "ExecuteTime": {
     "end_time": "2022-04-26T12:28:53.231457Z",
     "start_time": "2022-04-26T12:28:53.209422Z"
    }
   },
   "outputs": [],
   "source": [
    "thh_dBZ_GPM, thh_dBZ_TRMM = 13, 18  # dBZ\n",
    "def records(fn, df):\n",
    "    sfn = os.path.join(loc_res, fn+'.csv')\n",
    "    df.to_csv(sfn, header=True, index=False)\n",
    "        \n",
    "    return\n",
    "\n",
    "\n",
    "def vaex_mean(df_Base, var, fn, grp=['Year', 'Month']):\n",
    "    df = df_Base.groupby(by=grp,\n",
    "               agg = {'Land_mean': ve.agg.mean(var, selection='LandOcean==1'),                      \n",
    "                      'Ocean_mean': ve.agg.mean(var, selection='LandOcean==0'),\n",
    "                      'Land_count': ve.agg.count(var, selection='LandOcean==1'),\n",
    "                      'Ocean_count': ve.agg.count(var, selection='LandOcean==0'),\n",
    "               }).sort(by=grp).to_pandas_df()\n",
    "    records(fn, df)\n",
    "    return df \n",
    "\n",
    "\n",
    "def vaex_mean_std(df_Base, var, fn, grp=['Year', 'Month']):\n",
    "    df = df_Base.groupby(by=grp,\n",
    "               agg = {'Land_mean': ve.agg.mean(var, selection='LandOcean==1'),\n",
    "                      'Ocean_mean': ve.agg.mean(var, selection='LandOcean==0'),\n",
    "                      'Land_std': ve.agg.std(var, selection='LandOcean==1'),\n",
    "                      'Ocean_std': ve.agg.std(var, selection='LandOcean==0'),\n",
    "                      'Land_count': ve.agg.count(var, selection='LandOcean==1'),\n",
    "                      'Ocean_count': ve.agg.count(var, selection='LandOcean==0'),\n",
    "               }).sort(by=grp).to_pandas_df()\n",
    "    records(fn, df)\n",
    "    return df \n",
    "\n",
    "suffix = 'whole'"
   ]
  },
  {
   "cell_type": "code",
   "execution_count": 41,
   "metadata": {
    "ExecuteTime": {
     "end_time": "2022-04-20T04:27:21.859234Z",
     "start_time": "2022-04-20T04:27:20.996241Z"
    }
   },
   "outputs": [],
   "source": [
    "vedfGPM = ve.open(fn_GPM)[cols]\n",
    "vedfGPM_base = vedfGPM[  (vedfGPM.Latitude >= rng_lat[0]) & (vedfGPM.Latitude <= rng_lat[1])      # within Latitude ranges\n",
    "              & (vedfGPM.Year < 2021)           # filter Y2021\n",
    "            & (vedfGPM.ku_dBZ20_Htop > 0)   # must > 0 km\n",
    "              & (vedfGPM.nearSurfZ>=thh_dBZ_GPM)\n",
    "                      ]      "
   ]
  },
  {
   "cell_type": "code",
   "execution_count": 42,
   "metadata": {
    "ExecuteTime": {
     "end_time": "2022-04-20T04:31:26.677534Z",
     "start_time": "2022-04-20T04:27:29.146489Z"
    }
   },
   "outputs": [],
   "source": [
    "grp = ['Year', 'Month']\n",
    "fn = 'TimeSeries_dBZ20_Htop_GPM_2014-2020'+grp[-1]+'_'+suffix\n",
    "dfGPM20_M = vaex_mean(vedfGPM_base, 'ku_dBZ20_Htop', fn, grp=grp)"
   ]
  },
  {
   "cell_type": "code",
   "execution_count": 44,
   "metadata": {
    "ExecuteTime": {
     "end_time": "2022-04-20T04:42:47.116930Z",
     "start_time": "2022-04-20T04:42:44.259223Z"
    }
   },
   "outputs": [],
   "source": [
    "vedfTRMM = ve.open(fn_TRMM)[cols]\n",
    "vedfTRMM_base = vedfTRMM[  (vedfTRMM.Latitude >= rng_lat[0]) & (vedfTRMM.Latitude <= rng_lat[1])      # within Latitude ranges\n",
    "              & (vedfTRMM.Year > 1997)           # filter Y1997\n",
    "            & (vedfTRMM.ku_dBZ20_Htop > 0)   # must > 0 km\n",
    "              & (vedfTRMM.nearSurfZ>=thh_dBZ_TRMM)\n",
    "                        ]"
   ]
  },
  {
   "cell_type": "code",
   "execution_count": 45,
   "metadata": {
    "ExecuteTime": {
     "end_time": "2022-04-20T04:51:10.206449Z",
     "start_time": "2022-04-20T04:42:52.480496Z"
    }
   },
   "outputs": [],
   "source": [
    "grp = ['Year', 'Month']\n",
    "fn = 'TimeSeries_dBZ20_Htop_TRMM_1998-2014'+grp[-1]+'_'+suffix\n",
    "dfTRMM20_M = vaex_mean(vedfTRMM_base, 'ku_dBZ20_Htop', fn, grp=grp)\n",
    "dfTRMM20_M.drop(dfTRMM20_M.index.max(), inplace=True) # the last month has only 7 days, eliminated"
   ]
  },
  {
   "cell_type": "code",
   "execution_count": 10,
   "metadata": {
    "ExecuteTime": {
     "end_time": "2022-04-26T12:28:57.925334Z",
     "start_time": "2022-04-26T12:28:57.902364Z"
    }
   },
   "outputs": [],
   "source": [
    "# load old data\n",
    "dfTRMM20_M = pd.read_csv(os.path.join(loc_res, 'TimeSeries_dBZ20_Htop_TRMM_1998-2014Month_all.csv'))\n",
    "dfTRMM20_M.drop(dfTRMM20_M.index.max(), inplace=True) # the last month has only 7 days, eliminated\n",
    "dfGPM20_M = pd.read_csv(os.path.join(loc_res, 'TimeSeries_dBZ20_Htop_GPM_2014-2020Month_all.csv'))"
   ]
  },
  {
   "cell_type": "code",
   "execution_count": 11,
   "metadata": {
    "ExecuteTime": {
     "end_time": "2022-04-26T12:28:59.107798Z",
     "start_time": "2022-04-26T12:28:59.068831Z"
    }
   },
   "outputs": [
    {
     "data": {
      "text/plain": [
       "(276, 33)"
      ]
     },
     "execution_count": 11,
     "metadata": {},
     "output_type": "execute_result"
    }
   ],
   "source": [
    "df_M = dfTRMM20_M.merge(dfGPM20_M, how='outer', on=['Year', 'Month'], sort=True, suffixes=base_legend)\n",
    "\n",
    "time_rngs = ('19980101', '20201231')\n",
    "YYYYMM = pd.date_range(start=time_rngs[0], end=time_rngs[1], freq='MS').to_series()\n",
    "YYYYMM.name='Time'\n",
    "xlab = pd.concat([YYYYMM, YYYYMM.apply(lambda x: x.strftime('%Y-%m')).str.split('-', expand=True).astype(int)], axis=1)\n",
    "\n",
    "df_M = df_M.merge(xlab, how='right', left_on=['Year', 'Month'], right_on=[0, 1])\n",
    "df_M.drop(columns=[0,1,'Year', 'Month'], inplace=True)\n",
    "\n",
    "xrange_M, yrange_M = [df_M.Time.min(), df_M.Time.max()], [3, 8]\n",
    "\n",
    "df_M.shape"
   ]
  },
  {
   "cell_type": "code",
   "execution_count": 12,
   "metadata": {
    "ExecuteTime": {
     "end_time": "2022-04-26T12:29:00.674148Z",
     "start_time": "2022-04-26T12:29:00.642179Z"
    }
   },
   "outputs": [],
   "source": [
    "grid_ll = 1\n",
    "TRMM_mean_annual = {}\n",
    "fn = 'dBZ20_Htop_LongTerm_1998-2020_res'+f'{grid_ll:.2f}'+'_all.h5'\n",
    "sfn = os.path.join(loc_res, fn)\n",
    "datmp = h5py.File(sfn, 'r')\n",
    "\n",
    "dlt_Htop = datmp['dlt_dBZ20_Htop'][:]\n",
    "#print(datmp['count_dBZ20_Htop_TRMM'][:].min(), datmp['count_dBZ20_Htop_GPM'][:].min(),\n",
    "#      dlt_Htop.min(), dlt_Htop.max())\n",
    "\n",
    "lons = datmp['Lons'][:]\n",
    "lats = datmp['Lats'][:]\n",
    "mean_Htop = datmp['mean_dBZ20_Htop'][:]\n",
    "mean_TRMM = datmp[ 'mean_dBZ20_Htop_TRMM'][:]\n",
    "mean_GPM = datmp['mean_dBZ20_Htop_GPM'][:]\n",
    "count_TRMM = datmp['count_dBZ20_Htop_TRMM'][:]\n",
    "count_GPM = datmp['count_dBZ20_Htop_GPM'][:]\n",
    "TRMM_mean_annual['std'] = datmp['std'][:]\n",
    "\n",
    "datmp.close()"
   ]
  },
  {
   "cell_type": "code",
   "execution_count": 13,
   "metadata": {
    "ExecuteTime": {
     "end_time": "2022-04-26T12:29:02.810986Z",
     "start_time": "2022-04-26T12:29:02.782970Z"
    }
   },
   "outputs": [],
   "source": [
    "lon_center = 0\n",
    "cb_shrink, cb_orientation, aspect = 0.9, 'vertical', 15\n",
    "chr_fontsize=10\n",
    "\n",
    "pts_colors = ['b', 'r']\n",
    "DD = pd.Timedelta(365, unit='day')\n",
    "\n",
    "abstract = 'The 20'+r'$-$'+'dBZ echo'+r'$-$'+'top heights are consistent in different spatiotemporal scales\\n'+ \\\n",
    "           \"between Ku\"+r'$-$'+\"band radars onboard TRMM and GPM.\"\n",
    "\n",
    "\n",
    "from sklearn.metrics import mean_squared_error\n",
    "import matplotlib.dates as mdates\n",
    "#############\n",
    "def plot_GA(Xs, Ys, data, name, units=[],save_zero=True, ll_rng=[], levs=[], edge_lines=[],\n",
    "                  titles=[], cb_labels=[],\n",
    "                  cmap_rng=list(np.arange(6)+1), extend='max', ckind='pr1', pic_subdir='',\n",
    "                  L_slice=[], C_slice=[], V_slice=[], terrain=[], Symax=20,\n",
    "                  sfx_text_loc = [[0.01, 0.98, 'left'], [[0, 0,'top'],[0, 0,'top']]] ):\n",
    "    \n",
    "    plot = Plotting(global_xy=True, fontsize=12)\n",
    "    \n",
    "    cmap1 = plot.icmap.set_cmap(rng=cmap_rng, c_firstwhite=False, kind=ckind) \n",
    "#    cmap2 = copy.copy((cm.get_cmap(\"bwr\")))\n",
    "    \n",
    "    sns.set_context('paper', font_scale=1.4)  #         \n",
    "    fig, _ = plt.subplots(figsize=(11, 6))\n",
    "    fig.subplots_adjust(wspace=0.28, hspace=0.18)\n",
    "    _.remove()\n",
    "    gs = fig.add_gridspec(ncols=1, nrows=2) #, height_ratios=[4, 2.2, 2.2]\n",
    "#    print(ax.shape)\n",
    "    '''\n",
    "    ####\n",
    "    ax1 = fig.add_subplot(gs[0, 0])\n",
    "    ax1.axis('off')\n",
    "    \n",
    "    #======\n",
    "    iax = ax1.inset_axes(bounds=[0,0.5,1,0.5])\n",
    "    Yc, Xc = np.meshgrid(hgt, C_slice[0])\n",
    "    obj = iax.contourf(Xc-lon_center, Yc, V_slice[0], \n",
    "                          cmap=cmap1, levels=levs[0], \n",
    "                          norm=colors.BoundaryNorm(boundaries=np.array(levs[0]), ncolors=cmap1.N), \n",
    "                          alpha=1, zorder=1, extend=extend)\n",
    "    obj.cmap.set_over('indigo')\n",
    "\n",
    "    iax.fill_between(C_slice[0], np.zeros_like(terrain),terrain, color='k') #, transform=proj\n",
    "\n",
    "    iax.set_ylim(0, Symax) #hgt.max()\n",
    "    iax.yaxis.set_major_locator(ticker.MultipleLocator(3))\n",
    "#    iax.yaxis.set_minor_locator(ticker.MultipleLocator(1))\n",
    "#    iax.tick_params(axis='y', which='major', labelsize=12)\n",
    "    iax.text(x=0.02, y=0.95, s='TRMM_PR', fontsize=chr_fontsize, \n",
    "             ma='left', ha='left', va='top', color='black', transform=iax.transAxes)\n",
    "    \n",
    "    #==============\n",
    "    iax = ax1.inset_axes(bounds=[0,0,1,0.5])\n",
    "    Yc, Xc = np.meshgrid(hgt, C_slice[0])\n",
    "    obj = iax.contourf(Xc-lon_center, Yc, V_slice[1], \n",
    "                          cmap=cmap1, levels=levs[0], \n",
    "                          norm=colors.BoundaryNorm(boundaries=np.array(levs[0]), ncolors=cmap1.N), \n",
    "                          alpha=1, zorder=1, extend=extend)\n",
    "    obj.cmap.set_over('indigo')\n",
    "\n",
    "    iax.fill_between(C_slice[0], np.zeros_like(terrain),terrain, color='k') #, transform=proj\n",
    "#        iax.set_xlim(L_slice[0][0], L_slice[1][0])\n",
    "\n",
    "    iax.set_ylim(0, Symax) #hgt.max()\n",
    "    iax.yaxis.set_major_locator(ticker.MultipleLocator(3))\n",
    "#    iax.yaxis.set_minor_locator(ticker.MultipleLocator(1))\n",
    "#    iax.tick_params(axis='y', which='major', labelsize=12)\n",
    "    iax.invert_yaxis()\n",
    "    iax.text(x=0.02, y=0.04, s='GPM_KuPR', fontsize=chr_fontsize, \n",
    "             ma='left', ha='left', va='bottom', color='black', transform=iax.transAxes)\n",
    "\n",
    "    ax1.text(x=-0.12, y=0.5, s='Profile height (km)', rotation=90, \n",
    "            ma='left', ha='center', va='center', color='black', transform=ax1.transAxes)\n",
    "    \n",
    "    cb_ax = ax1.inset_axes(bounds=[1.03, 0.0, 0.035, 0.9])\n",
    "    cb = fig.colorbar(obj, cb_ax, orientation=cb_orientation) #shrink=cb_shrink, aspect=15, pad=0,  \n",
    "\n",
    "    cb.ax.tick_params(direction='in', length=4)\n",
    "    cb.ax.tick_params(which='minor', direction='in', length=2)\n",
    "    tick_labs = plot.__shrink_tail_zeros__(cb.get_ticks())\n",
    "#    cb.ax.set_yticklabels(tick_labs, fontdict={'fontsize': plot.fontsize})  \n",
    "#    cb.set_label(' '.join(['Reflectivity', '('+units[0]+')']), labelpad=1) #fontdict={'fontsize': plot.fontsize}, \n",
    "    ax1.text(x=1.08, y=0.93, s='(dBZ)', \n",
    "            ma='left', ha='center', va='bottom', color='black', transform=ax1.transAxes)\n",
    "    ###########\n",
    "    ax2 = fig.add_subplot(gs[0, 1])\n",
    "    Vars = ['dBZ20_Htop_TRMMKu', 'dBZ20_Htop_GPMKu']\n",
    "    data = df_dBZ20\n",
    "    grid, Xedge, Yedge, _ = ax2.hist2d(data[Vars[0]], data[Vars[1]], \n",
    "                                       bins=bins_coincide, visible=False)\n",
    "\n",
    "    totDA, maxDA = data.shape[0], int(grid.max())\n",
    "    pctDA = 100*grid/maxDA\n",
    "\n",
    "    obj = ax2.pcolormesh(Xedge, Yedge, pctDA,\n",
    "                  cmap=cmap1, shading='auto', \n",
    "                  norm=colors.BoundaryNorm(boundaries=levs_coincide, ncolors=cmap1.N), \n",
    "                  edgecolors='none', alpha=1, zorder=2)\n",
    "    obj.cmap.set_under('white')\n",
    "    obj.cmap.set_over('firebrick')\n",
    "\n",
    "    ax2.axline(xy1=(bins.min(), bins.min()), xy2=(bins.max(), bins.max()),\n",
    "                       linestyle='--', color='k')\n",
    "    \n",
    "    pcc = data[Vars].corr().to_numpy()[0, 1]\n",
    "    rmse = np.sqrt(mean_squared_error(data[Vars[0]], data[Vars[1]]))\n",
    "    bias = (data[Vars[1]]-data[Vars[0]]).mean()\n",
    "\n",
    "    ax2.text(x=0.02, y=0.98, \n",
    "             s=f'PCC = {pcc:4.02f}\\nBIAS = {bias:4.02f}\\nRMSE = {rmse:4.02f}', fontsize=chr_fontsize, \n",
    "             ma='left', ha='left', va='top', color='black', transform=ax2.transAxes) #, fontsize=fz\n",
    "\n",
    "    ax2.xaxis.set_major_locator(ticker.MultipleLocator(tick_loc[0]))\n",
    "    ax2.xaxis.set_minor_locator(ticker.MultipleLocator(tick_loc[1]))\n",
    "    ax2.yaxis.set_major_locator(ticker.MultipleLocator(tick_loc[2]))\n",
    "    ax2.yaxis.set_minor_locator(ticker.MultipleLocator(tick_loc[3]))\n",
    "    \n",
    "    ax2.set_xlim([0,16])\n",
    "    ax2.set_ylim([0,16])\n",
    "\n",
    "#    ax2.set_ylabel(f'{base_legend[0]} (km)')\n",
    "#    ax2.set_xlabel(f'{base_legend[1]} (km)')\n",
    "    \n",
    "    ax2.text(x=0.5, y=0.06, s=f'{base_legend[1]} (km)', fontsize=chr_fontsize, \n",
    "             ma='left', ha='center', va='top', color='black', transform=ax2.transAxes)\n",
    "    ax2.text(x=0.06, y=0.5, s=f'{base_legend[0]} (km)', fontsize=chr_fontsize, rotation=90, \n",
    "             ma='left', ha='right', va='center', color='black', transform=ax2.transAxes)\n",
    "\n",
    "    cb_ax = ax2.inset_axes(bounds=[1.03, 0., 0.035, 0.9])\n",
    "    cb = fig.colorbar(obj, cb_ax, orientation='vertical') #shrink=cb_shrink, aspect=15, pad=0,  \n",
    "\n",
    "    cb.set_ticks(cb_labs)\n",
    "    cb.set_ticklabels(cb_labs)\n",
    "    cb.ax.tick_params(direction='in', length=4)\n",
    "    cb.ax.tick_params(which='minor', direction='in', length=2)\n",
    "#            tick_labs = plot.__shrink_tail_zeros__(cb.get_ticks())\n",
    "#            cb.ax.set_yticklabels(tick_labs, fontdict={'fontsize': plot.fontsize})  \n",
    "#    cb.set_label(' Percentage (%)', labelpad=1) #, fontdict={'fontsize': plot.fontsize}\n",
    "    ax2.text(x=1.07, y=0.93, s='(%)', \n",
    "            ma='left', ha='center', va='bottom', color='black', transform=ax2.transAxes)\n",
    "    '''\n",
    "    ########\n",
    "    ax3 = fig.add_subplot(gs[0])\n",
    "    yrange_M=[3, 8]\n",
    "    \n",
    "    for vdx, var in enumerate(base_legend):\n",
    "        ax3.plot(df_M.Time, df_M['Ocean_mean_NH20'+var], \n",
    "                     color=self_colors[vdx], linestyle=linestyles[0], zorder=2, #linewidth=4, \n",
    "                     label='_'.join([var, 'Ocean']))\n",
    "        ax3.plot(df_M.Time, df_M['Land_mean_NH20'+var], \n",
    "                     color=self_colors[vdx], linestyle=linestyles[1], zorder=2, #linewidth=4, \n",
    "                     label='_'.join([var, 'Land']))\n",
    "    \n",
    "    ax3.yaxis.set_major_locator(ticker.MultipleLocator(1))\n",
    "    ax3.yaxis.set_minor_locator(ticker.MultipleLocator(0.25))\n",
    "    ax3.set_ylim(yrange_M)\n",
    "    ax3.set_ylabel('Height (km)')\n",
    "        \n",
    "    ax3.set_xlim(xrange_M)        \n",
    "    ax3.xaxis.set_major_formatter(mdates.DateFormatter('%Y-%m'))\n",
    "    ax3.xaxis.set_major_locator(mdates.YearLocator(4))\n",
    "    ax3.xaxis.set_minor_locator(mdates.YearLocator(1))    \n",
    "    \n",
    "    hands, labels = ax3.get_legend_handles_labels()\n",
    "    ax3.legend(hands, labels, loc='best', ncol=4, fontsize=chr_fontsize)\n",
    "        \n",
    "    #######\n",
    "    proj = ccrs.PlateCarree(central_longitude=lon_center)\n",
    "    ax4 = fig.add_subplot(gs[1], projection=proj)\n",
    "    \n",
    "    levs0 = np.arange(1, 9, 0.2).tolist()\n",
    "    ll_rng = [-180, 180+1.e-8, -36.5, 36.5+1.e-8]\n",
    "    \n",
    "    obj0 = ax4.contourf(lons-lon_center, lats, mean_Htop+1.e-8, \n",
    "                          cmap=cmap1, levels=levs0, \n",
    "                          norm=colors.BoundaryNorm(boundaries=np.array(levs0), ncolors=cmap1.N), \n",
    "                          alpha=1, zorder=2, extend='max')\n",
    "    obj0.cmap.set_over('indigo')\n",
    "    gl, cb = plot.__load_ax_settings__(fig, ax4, proj, obj0, var='', rng=ll_rng, unit='km', lon_center=lon_center,\n",
    "                             pad=0.025, aspect=0)\n",
    "    \n",
    "    ax4.gridlines(draw_labels=False, linewidth=2, linestyle=':', color='gray', alpha=0.8)\n",
    "    \n",
    "    colorbar_ax = ax4.inset_axes(bounds=[1.01, 0, 0.015, 1])\n",
    "    cb = fig.colorbar(obj0, colorbar_ax, aspect=40, #label='Sample number',\n",
    "                      orientation='vertical')    \n",
    "        \n",
    "    cb.ax.tick_params(which='major', length=3)\n",
    "#    cb.ax.tick_params(which='minor', length=4)\n",
    "    tick_labs = np.arange(1,9,1).astype(int)\n",
    "    cb.ax.yaxis.set_ticks(tick_labs)\n",
    "    cb.ax.set_yticklabels(tick_labs)\n",
    "#    cb.ax.set_ylabel('Height (km)', color='k') #, fontsize=14\n",
    "    ax4.text(x=1.02, y=1.01, s='(km)', \n",
    "            ma='left', ha='center', va='bottom', color='black', transform=ax4.transAxes)\n",
    "    \n",
    "    iax = ax3\n",
    "    iax.text(x=1, y=1.02, s=abstract, \n",
    "            ma='right', ha='right', va='bottom', color='black', transform=iax.transAxes)\n",
    "    plot._save_fig(name, fig)\n",
    "    del plot \n",
    "    return"
   ]
  },
  {
   "cell_type": "code",
   "execution_count": 14,
   "metadata": {
    "ExecuteTime": {
     "end_time": "2022-04-26T12:29:09.211560Z",
     "start_time": "2022-04-26T12:29:04.641323Z"
    }
   },
   "outputs": [],
   "source": [
    "# in relation to vslice\n",
    "sfx_text_locs = [[0.99, 0.98, 'right'], [[0.3, -0.05,'bottom'],[0, 0, 'bottom']]]\n",
    "\n",
    "##############\n",
    "case = cases[0]\n",
    "cc0 = (case['X0']>=case['ll_rng'][0]) * (case['X0']<=case['ll_rng'][1]) *(case['Y0']>=case['ll_rng'][2])*(case['Y0']<=case['ll_rng'][3])\n",
    "cc1 = (case['X1']>=case['ll_rng'][0]) * (case['X1']<=case['ll_rng'][1]) *(case['Y1']>=case['ll_rng'][2])*(case['Y1']<=case['ll_rng'][3])\n",
    "time_idx = int(np.where(cc0.sum(axis=1) > 23)[0].mean()), int(np.where(cc1.sum(axis=1) > 23)[0].mean())\n",
    "\n",
    "plot_GA([case['X0'], case['X1']], [case['Y0'], case['Y1']], \n",
    "              [[case['TRMM_nearSurfdBZ'],case['GPM_nearSurfdBZ']],[case['TRMM_nearSurfRain']+1.e-8,case['GPM_nearSurfRain']+1.e-8]],\n",
    "              'GA', \n",
    "              levs=[case['levs_dBZ'], case['levs_RR']], units=[case['unit_dBZ'], case['unit_RR']],\n",
    "              ll_rng=case['ll_rng'], edge_lines = case['edge_lines'],\n",
    "              cb_labels=['nearSurfdBZ', 'nearSurfRain'],\n",
    "              titles=[f\"TRMM Orbit: {case['TRMM_Orbit']}    \"+str(case['TRMM_time'][time_idx[0]])[2:-1], \n",
    "                      f\"GPM Orbit: {case['GPM_Orbit']}          \"+str(case['GPM_time'][time_idx[1]])[2:-1]],\n",
    "              L_slice = case['slice_pts'],\n",
    "              C_slice = case['slice_coords'],\n",
    "              V_slice = [case['TRMM_slice'], case['GPM_slice']],\n",
    "              terrain = case['terrain'],\n",
    "              Symax = case['symax']\n",
    "             ) \n",
    "#    break\n"
   ]
  },
  {
   "cell_type": "code",
   "execution_count": null,
   "metadata": {},
   "outputs": [],
   "source": []
  },
  {
   "cell_type": "code",
   "execution_count": null,
   "metadata": {},
   "outputs": [],
   "source": []
  },
  {
   "cell_type": "code",
   "execution_count": null,
   "metadata": {},
   "outputs": [],
   "source": []
  }
 ],
 "metadata": {
  "kernelspec": {
   "display_name": "Python 3",
   "language": "python",
   "name": "python3"
  },
  "language_info": {
   "codemirror_mode": {
    "name": "ipython",
    "version": 3
   },
   "file_extension": ".py",
   "mimetype": "text/x-python",
   "name": "python",
   "nbconvert_exporter": "python",
   "pygments_lexer": "ipython3",
   "version": "3.8.3"
  },
  "latex_envs": {
   "LaTeX_envs_menu_present": true,
   "autoclose": false,
   "autocomplete": true,
   "bibliofile": "biblio.bib",
   "cite_by": "apalike",
   "current_citInitial": 1,
   "eqLabelWithNumbers": true,
   "eqNumInitial": 1,
   "hotkeys": {
    "equation": "Ctrl-E",
    "itemize": "Ctrl-I"
   },
   "labels_anchors": false,
   "latex_user_defs": false,
   "report_style_numbering": false,
   "user_envs_cfg": false
  },
  "toc": {
   "base_numbering": 1,
   "nav_menu": {},
   "number_sections": true,
   "sideBar": true,
   "skip_h1_title": false,
   "title_cell": "Table of Contents",
   "title_sidebar": "Contents",
   "toc_cell": false,
   "toc_position": {},
   "toc_section_display": true,
   "toc_window_display": false
  },
  "varInspector": {
   "cols": {
    "lenName": 16,
    "lenType": 16,
    "lenVar": 40
   },
   "kernels_config": {
    "python": {
     "delete_cmd_postfix": "",
     "delete_cmd_prefix": "del ",
     "library": "var_list.py",
     "varRefreshCmd": "print(var_dic_list())"
    },
    "r": {
     "delete_cmd_postfix": ") ",
     "delete_cmd_prefix": "rm(",
     "library": "var_list.r",
     "varRefreshCmd": "cat(var_dic_list()) "
    }
   },
   "types_to_exclude": [
    "module",
    "function",
    "builtin_function_or_method",
    "instance",
    "_Feature"
   ],
   "window_display": false
  }
 },
 "nbformat": 4,
 "nbformat_minor": 4
}
