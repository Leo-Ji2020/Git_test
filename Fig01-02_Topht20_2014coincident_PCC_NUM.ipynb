{
 "cells": [
  {
   "cell_type": "code",
   "execution_count": 1,
   "metadata": {
    "ExecuteTime": {
     "end_time": "2022-04-19T22:50:29.985130Z",
     "start_time": "2022-04-19T22:50:28.497860Z"
    }
   },
   "outputs": [],
   "source": [
    "from module_Plot import Plotting\n",
    "\n",
    "import seaborn as sns\n",
    "import matplotlib.pyplot as plt\n",
    "from matplotlib import ticker, cm, colors\n",
    "\n",
    "import numpy as np\n",
    "import pandas as pd\n",
    "import os\n",
    "import copy\n",
    "\n",
    "plt.rcParams['axes.unicode_minus'] = False"
   ]
  },
  {
   "cell_type": "code",
   "execution_count": 2,
   "metadata": {
    "ExecuteTime": {
     "end_time": "2022-04-19T22:50:30.270306Z",
     "start_time": "2022-04-19T22:50:30.263307Z"
    }
   },
   "outputs": [],
   "source": [
    "loc = r'E:\\data\\_results\\common_radar'\n",
    "fn = 'TG_2D_Total_V06A.csv'\n",
    "fn_csv = os.path.join(loc, fn)\n",
    "\n",
    "dtypes = {'dlt_Dm':        np.float32,       \n",
    "          'dlt_Tsec':      np.int32,         \n",
    "          'rainType_TRMMKu':     np.float32,       \n",
    "          'rainType_GPMKu':      np.float32,\n",
    "          'LandOcean_GPMKu':     np.int32,       \n",
    "          \n",
    "#          'nearSurfRain_TRMMKu': np.float32,      \n",
    "#          'nearSurfRain_GPMKu':  np.float32,    \n",
    "          \n",
    "          'dBZ20_Htop_TRMMKu':   np.float32,\n",
    "          'dBZ20_Htop_GPMKu':   np.float32,\n",
    "          'dBZ35_Htop_TRMMKu':   np.float32,\n",
    "          'dBZ35_Htop_GPMKu':   np.float32,\n",
    "          \n",
    "          'nearSurfdBZ_TRMMKu':  np.float32,\n",
    "          'nearSurfdBZ_GPMKu':   np.float32, \n",
    "          \n",
    "          'Lon_GPMKu': np.float32, \n",
    "          'Lat_GPMKu': np.float32,\n",
    "          \n",
    "          'loc_x_TRMMKu': np.int32,\n",
    "          'loc_y_TRMMKu': np.int32,  \n",
    "          'orbitID_TRMMKu': np.int32,\n",
    "          'loc_x_GPMKu': np.int32,\n",
    "          'loc_y_GPMKu': np.int32,\n",
    "          'orbitID_GPMKu': np.int32,\n",
    "          }\n",
    "xy_vars = ['dlt_Dm', 'dlt_Tsec']\n",
    "\n",
    "fig_idxs = [f'({chr(ii)})' for ii in range(97, 123)]"
   ]
  },
  {
   "cell_type": "code",
   "execution_count": 5,
   "metadata": {
    "ExecuteTime": {
     "end_time": "2022-04-19T22:51:42.140159Z",
     "start_time": "2022-04-19T22:51:42.098141Z"
    }
   },
   "outputs": [],
   "source": [
    "xy_intl = [0.1, 1]  # [km, minute]\n",
    "x_value, y_value = np.arange(xy_intl[0], 3+1.e-8, xy_intl[0]), np.arange(xy_intl[1], 20+1.e-8, xy_intl[1])\n",
    "star_color = 'purple'\n",
    "\n",
    "#########\n",
    "def PCC_matrix(df_base, pcc_vars):\n",
    "    PCC = np.full((x_value.size, y_value.size), fill_value=np.nan, dtype=np.float32)\n",
    "    BIAS = np.full((x_value.size, y_value.size), fill_value=np.nan, dtype=np.float32)\n",
    "    NUM = np.zeros((x_value.size, y_value.size), dtype=np.int32)\n",
    "    for jdx, yval in enumerate(y_value):\n",
    "        for idx, xval in enumerate(x_value):\n",
    "            criteria = f'({xy_vars[0]} <= {xval:.1f}) & ({xy_vars[1]} <= {yval:.0f})'\n",
    "#            print(criteria)\n",
    "            df_tmp = df_base.query(criteria)\n",
    "            \n",
    "            NUM[idx, jdx] = df_tmp.shape[0]\n",
    "            PCC[idx, jdx] = df_tmp[pcc_vars].corr().to_numpy()[0, 1]\n",
    "            BIAS[idx, jdx] = (df_tmp[pcc_vars[1]] - df_tmp[pcc_vars[0]]).mean()\n",
    "    \n",
    "    return PCC, NUM, BIAS\n",
    "\n",
    "\n",
    "def fmt(x):\n",
    "    s = f\"{x:.1f}\"\n",
    "    if s.endswith(\"0\"):\n",
    "        s = f\"{x:.0f}\"\n",
    "    return rf\"{s} \\%\" if plt.rcParams[\"text.usetex\"] else f\"{s} %\"\n",
    "\n",
    "\n",
    "def plot_grid(fn, grid_shade, grid_contour, shade_var='NUM', is_hist=True, hist_df=None, cb_label='PCC'):\n",
    "    gcnt = np.zeros((x_value.size, y_value.size+1), dtype=np.float32)\n",
    "    gcnt[:, :-1] = grid_contour.copy()\n",
    "    gcnt[:, -1] = grid_contour[:, -1]\n",
    "    \n",
    "    plot = Plotting(global_xy=False, fontsize=14)\n",
    "    cmap = plot.icmap.set_cmap(rng=list(np.arange(6)+1), c_firstwhite=False, kind='pr1') # copy.copy((cm.get_cmap('rainbow')))    \n",
    "\n",
    "    sns.set_context('talk', font_scale=1)\n",
    "    fig, ax = plt.subplots(figsize=(8, 6))\n",
    "    \n",
    "    obj = ax.pcolormesh(np.array([0]+x_value.tolist()), np.array([0]+y_value.tolist()), grid_shade.T, cmap=cmap, shading='flat', \n",
    "                      #norm=colors.BoundaryNorm(boundaries=levs, ncolors=cmap.N), \n",
    "                      edgecolors='none', alpha=1, zorder=0)\n",
    "    if shade_var == 'NUM':\n",
    "        levs = np.arange(0.5, 0.95, 0.05)\n",
    "        fmts, manual = None, None\n",
    "    elif shade_var == 'PCC':\n",
    "        levs = np.arange(50, 100, 10)\n",
    "        fmts, manual = fmt, ((2.75, 18),(2.75, 16),(2.7, 12),(2.7, 8),(2.7, 6))\n",
    "    else:\n",
    "        levs = np.arange(50, 100, 10)\n",
    "        fmts, manual = fmt, None\n",
    "    CS = ax.contour(x_value-0.5*xy_intl[0], np.array((y_value-xy_intl[1]).tolist()+[y_value[-1]+xy_intl[1]]), gcnt.T, levels=levs, \n",
    "               linewidths=2, colors='k', alpha=1, zorder=1)\n",
    "    ax.clabel(CS, inline=True, fontsize=14, fmt=fmts, manual=manual)\n",
    "    \n",
    "    ax.scatter(2.5-0.5*xy_intl[0], 15-0.5*xy_intl[1], marker=\"*\", c=star_color, s=100)\n",
    "    \n",
    "    ax.set_xlim(0, x_value.max())   \n",
    "    ax.set_ylim(0, y_value.max())   \n",
    "    \n",
    "    ax.xaxis.set_major_locator(ticker.MultipleLocator(0.5))\n",
    "    ax.xaxis.set_minor_locator(ticker.MultipleLocator(xy_intl[0]))\n",
    "    ax.yaxis.set_major_locator(ticker.MultipleLocator(5))\n",
    "    ax.yaxis.set_minor_locator(ticker.MultipleLocator(xy_intl[1]))\n",
    "    \n",
    "    if is_hist:\n",
    "        ax_up = ax.inset_axes(bounds=[0, 1.06, 1, 0.3])\n",
    "        sns.histplot(data=hist_df, x=xy_vars[0], bins=[0]+x_value.tolist(), kde=False, stat='percent', \n",
    "                     color='k', element='poly', fill=False, ax=ax_up, zorder=0)\n",
    "        ax_up.xaxis.set_major_locator(ticker.MultipleLocator(0.5))\n",
    "        ax_up.xaxis.set_minor_locator(ticker.MultipleLocator(xy_intl[0]))\n",
    "        ax_up.set_xticklabels([])\n",
    "        ax_up.set_xlabel('')\n",
    "        ax_up.set_ylabel('Percent (%)')\n",
    "        ax_up.set_yticks([2, 4, 6])\n",
    "        ax_up.vlines(2.5, ymin=0, ymax=ax_up.get_ylim()[-1], linestyle='--', color=star_color, zorder=2)\n",
    "        ax_up.set_xlim(0, x_value.max()) \n",
    "        ax_up.set_ylim(0, ax_up.get_ylim()[-1]) \n",
    "        x2 = [2.5, 3] \n",
    "        ax_up.fill_between(x2, [ax_up.get_ylim()[-1]]*x2.__len__(), [0]*x2.__len__(), alpha=0.8, \n",
    "                         color='silver', edgecolor=None, zorder=1)\n",
    "        \n",
    "        ax_right = ax.inset_axes(bounds=[1.045, 0, 0.25, 1])\n",
    "        sns.histplot(data=hist_df, y=xy_vars[1], bins=[0]+y_value.tolist(), kde=False, stat='percent', \n",
    "                     color='k', element='poly', fill=False, ax=ax_right, zorder=0)\n",
    "        ax_right.yaxis.set_major_locator(ticker.MultipleLocator(5))\n",
    "        ax_right.yaxis.set_minor_locator(ticker.MultipleLocator(xy_intl[1]))\n",
    "        ax_right.set_yticklabels([])\n",
    "        ax_right.set_ylabel('')\n",
    "        ax_right.set_xlabel('Percent (%)')\n",
    "        ax_right.set_xticks(np.arange(1, 13+1.e-8, 3))\n",
    "        x2 = [0, ax_right.get_xlim()[-1]]\n",
    "        ax_right.hlines(15, xmin=0, xmax=x2[-1], linestyle='--', color=star_color, zorder=2)\n",
    "        ax_right.set_ylim(0, y_value.max())\n",
    "        ax_right.set_xlim(0, x2[-1])\n",
    "        ax_right.fill_between(x2, [15]*x2.__len__(), [20]*x2.__len__(), alpha=0.8, \n",
    "                         color='silver', edgecolor=None, zorder=1)\n",
    "        \n",
    "#        ax.text(1.05,1.15, s=fn.split('_')[1], fontsize=14, transform=ax.transAxes)\n",
    "    #####\n",
    "    if is_hist:\n",
    "        cb_ax = ax.inset_axes(bounds=[0.05, -0.22, 0.9, 0.04])\n",
    "        cb = fig.colorbar(obj, cb_ax, orientation='horizontal')\n",
    "        cb_ax.xaxis.set_major_locator(ticker.MultipleLocator(0.02))\n",
    "        cb_ax.xaxis.set_minor_locator(ticker.MultipleLocator(0.01))\n",
    "    else:\n",
    "        cb_ax = ax.inset_axes(bounds=[1.03, 0.05, 0.04, 0.9])\n",
    "        cb = fig.colorbar(obj, cb_ax, orientation='vertical')\n",
    "        cb_ax.yaxis.set_major_locator(ticker.MultipleLocator(0.02))\n",
    "        cb_ax.yaxis.set_minor_locator(ticker.MultipleLocator(0.01))\n",
    "    \n",
    "    if shade_var == 'NUM':\n",
    "        cb.set_ticks(np.arange(0, 100+1.e-8, 10))\n",
    "#        cb.set_label(r'Samples ($\\times$10$^4$)', labelpad=1)\n",
    "        cb.set_label('Percentage of samples (%)', labelpad=1)\n",
    "    elif shade_var == 'PCC':\n",
    "        cb.set_ticks(np.arange(0.5, 1+1.e-8, 0.02))\n",
    "        cb.set_label(cb_label, labelpad=1)\n",
    "    else: \n",
    "        cb.set_label(cb_label, labelpad=1)\n",
    "\n",
    "    cb.ax.tick_params(direction='in', length=6)\n",
    "    cb.ax.tick_params(which='minor', direction='in', length=4)    \n",
    "    ax.set_xlabel('Distance (km)')\n",
    "    ax.set_ylabel('Time interval (minute)')\n",
    "    \n",
    "    plot._save_fig(fn, fig)\n",
    "    del plot\n",
    "    return"
   ]
  },
  {
   "cell_type": "code",
   "execution_count": 6,
   "metadata": {
    "ExecuteTime": {
     "end_time": "2022-04-19T22:52:06.116103Z",
     "start_time": "2022-04-19T22:51:45.216847Z"
    }
   },
   "outputs": [
    {
     "data": {
      "text/html": [
       "<div>\n",
       "<style scoped>\n",
       "    .dataframe tbody tr th:only-of-type {\n",
       "        vertical-align: middle;\n",
       "    }\n",
       "\n",
       "    .dataframe tbody tr th {\n",
       "        vertical-align: top;\n",
       "    }\n",
       "\n",
       "    .dataframe thead th {\n",
       "        text-align: right;\n",
       "    }\n",
       "</style>\n",
       "<table border=\"1\" class=\"dataframe\">\n",
       "  <thead>\n",
       "    <tr style=\"text-align: right;\">\n",
       "      <th></th>\n",
       "      <th>loc_x_TRMMKu</th>\n",
       "      <th>loc_y_TRMMKu</th>\n",
       "      <th>Lon_GPMKu</th>\n",
       "      <th>Lat_GPMKu</th>\n",
       "      <th>loc_x_GPMKu</th>\n",
       "      <th>loc_y_GPMKu</th>\n",
       "      <th>dlt_Dm</th>\n",
       "      <th>dlt_Tsec</th>\n",
       "      <th>orbitID_TRMMKu</th>\n",
       "      <th>nearSurfdBZ_TRMMKu</th>\n",
       "      <th>rainType_TRMMKu</th>\n",
       "      <th>orbitID_GPMKu</th>\n",
       "      <th>nearSurfdBZ_GPMKu</th>\n",
       "      <th>LandOcean_GPMKu</th>\n",
       "      <th>rainType_GPMKu</th>\n",
       "      <th>dBZ20_Htop_TRMMKu</th>\n",
       "      <th>dBZ35_Htop_TRMMKu</th>\n",
       "      <th>dBZ20_Htop_GPMKu</th>\n",
       "      <th>dBZ35_Htop_GPMKu</th>\n",
       "    </tr>\n",
       "  </thead>\n",
       "  <tbody>\n",
       "    <tr>\n",
       "      <th>count</th>\n",
       "      <td>5.555204e+06</td>\n",
       "      <td>5.555204e+06</td>\n",
       "      <td>5.555204e+06</td>\n",
       "      <td>5.555204e+06</td>\n",
       "      <td>5.555204e+06</td>\n",
       "      <td>5.555204e+06</td>\n",
       "      <td>5.555204e+06</td>\n",
       "      <td>5.555204e+06</td>\n",
       "      <td>5.555204e+06</td>\n",
       "      <td>193141.000000</td>\n",
       "      <td>215763.000000</td>\n",
       "      <td>5.555204e+06</td>\n",
       "      <td>262369.000000</td>\n",
       "      <td>5.555204e+06</td>\n",
       "      <td>292955.000000</td>\n",
       "      <td>5.555204e+06</td>\n",
       "      <td>5.555204e+06</td>\n",
       "      <td>5.555204e+06</td>\n",
       "      <td>5.555204e+06</td>\n",
       "    </tr>\n",
       "    <tr>\n",
       "      <th>mean</th>\n",
       "      <td>4.606090e+03</td>\n",
       "      <td>2.401950e+01</td>\n",
       "      <td>-4.519809e-01</td>\n",
       "      <td>2.950151e+00</td>\n",
       "      <td>3.664194e+03</td>\n",
       "      <td>2.401104e+01</td>\n",
       "      <td>1.750772e+00</td>\n",
       "      <td>8.325637e+00</td>\n",
       "      <td>9.410472e+04</td>\n",
       "      <td>27.899212</td>\n",
       "      <td>1.450721</td>\n",
       "      <td>1.338017e+03</td>\n",
       "      <td>25.297689</td>\n",
       "      <td>2.780692e-01</td>\n",
       "      <td>1.535823</td>\n",
       "      <td>2.111010e-01</td>\n",
       "      <td>3.616137e-02</td>\n",
       "      <td>2.453773e-01</td>\n",
       "      <td>3.920700e-02</td>\n",
       "    </tr>\n",
       "    <tr>\n",
       "      <th>std</th>\n",
       "      <td>2.325003e+03</td>\n",
       "      <td>1.429825e+01</td>\n",
       "      <td>1.033098e+02</td>\n",
       "      <td>1.746541e+01</td>\n",
       "      <td>1.936857e+03</td>\n",
       "      <td>1.414337e+01</td>\n",
       "      <td>6.546466e-01</td>\n",
       "      <td>5.705163e+00</td>\n",
       "      <td>9.295147e+02</td>\n",
       "      <td>6.537040</td>\n",
       "      <td>0.558648</td>\n",
       "      <td>9.276533e+02</td>\n",
       "      <td>7.709689</td>\n",
       "      <td>4.801016e-01</td>\n",
       "      <td>0.655669</td>\n",
       "      <td>1.136892e+00</td>\n",
       "      <td>4.139320e-01</td>\n",
       "      <td>1.223366e+00</td>\n",
       "      <td>4.330940e-01</td>\n",
       "    </tr>\n",
       "    <tr>\n",
       "      <th>min</th>\n",
       "      <td>4.100000e+01</td>\n",
       "      <td>0.000000e+00</td>\n",
       "      <td>-1.799999e+02</td>\n",
       "      <td>-3.522978e+01</td>\n",
       "      <td>6.700000e+01</td>\n",
       "      <td>0.000000e+00</td>\n",
       "      <td>2.024267e-03</td>\n",
       "      <td>0.000000e+00</td>\n",
       "      <td>9.292600e+04</td>\n",
       "      <td>17.769791</td>\n",
       "      <td>1.000000</td>\n",
       "      <td>1.610000e+02</td>\n",
       "      <td>0.763357</td>\n",
       "      <td>0.000000e+00</td>\n",
       "      <td>1.000000</td>\n",
       "      <td>0.000000e+00</td>\n",
       "      <td>0.000000e+00</td>\n",
       "      <td>0.000000e+00</td>\n",
       "      <td>0.000000e+00</td>\n",
       "    </tr>\n",
       "    <tr>\n",
       "      <th>25%</th>\n",
       "      <td>2.341000e+03</td>\n",
       "      <td>1.200000e+01</td>\n",
       "      <td>-8.896939e+01</td>\n",
       "      <td>-1.146972e+01</td>\n",
       "      <td>1.833000e+03</td>\n",
       "      <td>1.200000e+01</td>\n",
       "      <td>1.282344e+00</td>\n",
       "      <td>3.550000e+00</td>\n",
       "      <td>9.323200e+04</td>\n",
       "      <td>22.391607</td>\n",
       "      <td>1.000000</td>\n",
       "      <td>4.670000e+02</td>\n",
       "      <td>18.841253</td>\n",
       "      <td>0.000000e+00</td>\n",
       "      <td>1.000000</td>\n",
       "      <td>0.000000e+00</td>\n",
       "      <td>0.000000e+00</td>\n",
       "      <td>0.000000e+00</td>\n",
       "      <td>0.000000e+00</td>\n",
       "    </tr>\n",
       "    <tr>\n",
       "      <th>50%</th>\n",
       "      <td>5.560000e+03</td>\n",
       "      <td>2.400000e+01</td>\n",
       "      <td>-1.818529e+00</td>\n",
       "      <td>5.645487e+00</td>\n",
       "      <td>2.527000e+03</td>\n",
       "      <td>2.400000e+01</td>\n",
       "      <td>1.813365e+00</td>\n",
       "      <td>7.000000e+00</td>\n",
       "      <td>9.393700e+04</td>\n",
       "      <td>26.898516</td>\n",
       "      <td>1.000000</td>\n",
       "      <td>1.171000e+03</td>\n",
       "      <td>24.223862</td>\n",
       "      <td>0.000000e+00</td>\n",
       "      <td>1.000000</td>\n",
       "      <td>0.000000e+00</td>\n",
       "      <td>0.000000e+00</td>\n",
       "      <td>0.000000e+00</td>\n",
       "      <td>0.000000e+00</td>\n",
       "    </tr>\n",
       "    <tr>\n",
       "      <th>75%</th>\n",
       "      <td>6.559000e+03</td>\n",
       "      <td>3.700000e+01</td>\n",
       "      <td>8.827869e+01</td>\n",
       "      <td>1.694149e+01</td>\n",
       "      <td>5.633000e+03</td>\n",
       "      <td>3.600000e+01</td>\n",
       "      <td>2.258426e+00</td>\n",
       "      <td>1.303333e+01</td>\n",
       "      <td>9.483600e+04</td>\n",
       "      <td>32.165344</td>\n",
       "      <td>2.000000</td>\n",
       "      <td>2.068000e+03</td>\n",
       "      <td>30.588100</td>\n",
       "      <td>1.000000e+00</td>\n",
       "      <td>2.000000</td>\n",
       "      <td>0.000000e+00</td>\n",
       "      <td>0.000000e+00</td>\n",
       "      <td>0.000000e+00</td>\n",
       "      <td>0.000000e+00</td>\n",
       "    </tr>\n",
       "    <tr>\n",
       "      <th>max</th>\n",
       "      <td>8.896000e+03</td>\n",
       "      <td>4.800000e+01</td>\n",
       "      <td>1.800000e+02</td>\n",
       "      <td>3.592128e+01</td>\n",
       "      <td>6.660000e+03</td>\n",
       "      <td>4.800000e+01</td>\n",
       "      <td>2.999999e+00</td>\n",
       "      <td>2.000000e+01</td>\n",
       "      <td>9.623000e+04</td>\n",
       "      <td>62.944580</td>\n",
       "      <td>3.000000</td>\n",
       "      <td>3.459000e+03</td>\n",
       "      <td>60.804680</td>\n",
       "      <td>3.000000e+00</td>\n",
       "      <td>3.000000</td>\n",
       "      <td>2.188170e+01</td>\n",
       "      <td>1.976495e+01</td>\n",
       "      <td>2.181748e+01</td>\n",
       "      <td>2.047254e+01</td>\n",
       "    </tr>\n",
       "  </tbody>\n",
       "</table>\n",
       "</div>"
      ],
      "text/plain": [
       "       loc_x_TRMMKu  loc_y_TRMMKu     Lon_GPMKu     Lat_GPMKu   loc_x_GPMKu  \\\n",
       "count  5.555204e+06  5.555204e+06  5.555204e+06  5.555204e+06  5.555204e+06   \n",
       "mean   4.606090e+03  2.401950e+01 -4.519809e-01  2.950151e+00  3.664194e+03   \n",
       "std    2.325003e+03  1.429825e+01  1.033098e+02  1.746541e+01  1.936857e+03   \n",
       "min    4.100000e+01  0.000000e+00 -1.799999e+02 -3.522978e+01  6.700000e+01   \n",
       "25%    2.341000e+03  1.200000e+01 -8.896939e+01 -1.146972e+01  1.833000e+03   \n",
       "50%    5.560000e+03  2.400000e+01 -1.818529e+00  5.645487e+00  2.527000e+03   \n",
       "75%    6.559000e+03  3.700000e+01  8.827869e+01  1.694149e+01  5.633000e+03   \n",
       "max    8.896000e+03  4.800000e+01  1.800000e+02  3.592128e+01  6.660000e+03   \n",
       "\n",
       "        loc_y_GPMKu        dlt_Dm      dlt_Tsec  orbitID_TRMMKu  \\\n",
       "count  5.555204e+06  5.555204e+06  5.555204e+06    5.555204e+06   \n",
       "mean   2.401104e+01  1.750772e+00  8.325637e+00    9.410472e+04   \n",
       "std    1.414337e+01  6.546466e-01  5.705163e+00    9.295147e+02   \n",
       "min    0.000000e+00  2.024267e-03  0.000000e+00    9.292600e+04   \n",
       "25%    1.200000e+01  1.282344e+00  3.550000e+00    9.323200e+04   \n",
       "50%    2.400000e+01  1.813365e+00  7.000000e+00    9.393700e+04   \n",
       "75%    3.600000e+01  2.258426e+00  1.303333e+01    9.483600e+04   \n",
       "max    4.800000e+01  2.999999e+00  2.000000e+01    9.623000e+04   \n",
       "\n",
       "       nearSurfdBZ_TRMMKu  rainType_TRMMKu  orbitID_GPMKu  nearSurfdBZ_GPMKu  \\\n",
       "count       193141.000000    215763.000000   5.555204e+06      262369.000000   \n",
       "mean            27.899212         1.450721   1.338017e+03          25.297689   \n",
       "std              6.537040         0.558648   9.276533e+02           7.709689   \n",
       "min             17.769791         1.000000   1.610000e+02           0.763357   \n",
       "25%             22.391607         1.000000   4.670000e+02          18.841253   \n",
       "50%             26.898516         1.000000   1.171000e+03          24.223862   \n",
       "75%             32.165344         2.000000   2.068000e+03          30.588100   \n",
       "max             62.944580         3.000000   3.459000e+03          60.804680   \n",
       "\n",
       "       LandOcean_GPMKu  rainType_GPMKu  dBZ20_Htop_TRMMKu  dBZ35_Htop_TRMMKu  \\\n",
       "count     5.555204e+06   292955.000000       5.555204e+06       5.555204e+06   \n",
       "mean      2.780692e-01        1.535823       2.111010e-01       3.616137e-02   \n",
       "std       4.801016e-01        0.655669       1.136892e+00       4.139320e-01   \n",
       "min       0.000000e+00        1.000000       0.000000e+00       0.000000e+00   \n",
       "25%       0.000000e+00        1.000000       0.000000e+00       0.000000e+00   \n",
       "50%       0.000000e+00        1.000000       0.000000e+00       0.000000e+00   \n",
       "75%       1.000000e+00        2.000000       0.000000e+00       0.000000e+00   \n",
       "max       3.000000e+00        3.000000       2.188170e+01       1.976495e+01   \n",
       "\n",
       "       dBZ20_Htop_GPMKu  dBZ35_Htop_GPMKu  \n",
       "count      5.555204e+06      5.555204e+06  \n",
       "mean       2.453773e-01      3.920700e-02  \n",
       "std        1.223366e+00      4.330940e-01  \n",
       "min        0.000000e+00      0.000000e+00  \n",
       "25%        0.000000e+00      0.000000e+00  \n",
       "50%        0.000000e+00      0.000000e+00  \n",
       "75%        0.000000e+00      0.000000e+00  \n",
       "max        2.181748e+01      2.047254e+01  "
      ]
     },
     "execution_count": 6,
     "metadata": {},
     "output_type": "execute_result"
    }
   ],
   "source": [
    "df = pd.read_csv(fn_csv, usecols=dtypes.keys(), dtype=dtypes, compression='gzip')\n",
    "df.loc[:, 'dlt_Dm'] = df['dlt_Dm']/1000     # [m --> km]\n",
    "df.loc[:, 'dlt_Tsec'] = df['dlt_Tsec']/60   # [second --> minute]\n",
    "\n",
    "df.describe()"
   ]
  },
  {
   "cell_type": "code",
   "execution_count": 7,
   "metadata": {
    "ExecuteTime": {
     "end_time": "2022-04-19T22:52:16.248140Z",
     "start_time": "2022-04-19T22:52:06.200066Z"
    }
   },
   "outputs": [
    {
     "name": "stdout",
     "output_type": "stream",
     "text": [
      "        loc_x_TRMMKu   loc_y_TRMMKu      Lon_GPMKu      Lat_GPMKu  \\\n",
      "count  140697.000000  140697.000000  140697.000000  140697.000000   \n",
      "mean     4789.623105      24.524418      10.466575       2.457448   \n",
      "std      2301.223826      14.020504     112.041603      14.925465   \n",
      "min        60.000000       0.000000    -179.998276     -34.932213   \n",
      "25%      2454.000000      13.000000     -84.849602      -7.835015   \n",
      "50%      5915.000000      25.000000       9.919799       4.474290   \n",
      "75%      6709.000000      37.000000     114.922195      11.988668   \n",
      "max      8888.000000      48.000000     179.999557      35.756569   \n",
      "\n",
      "         loc_x_GPMKu    loc_y_GPMKu         dlt_Dm       dlt_Tsec  \\\n",
      "count  140697.000000  140697.000000  140697.000000  140697.000000   \n",
      "mean     4091.433748      24.776626       1.738078       7.989083   \n",
      "std      1943.483431      14.285091       0.656990       6.010588   \n",
      "min       428.000000       0.000000       0.006534       0.000000   \n",
      "25%      2055.000000      12.000000       1.269759       2.666667   \n",
      "50%      5274.000000      25.000000       1.802564       6.116667   \n",
      "75%      5809.000000      37.000000       2.243798      13.266667   \n",
      "max      6660.000000      48.000000       2.999968      20.000000   \n",
      "\n",
      "       orbitID_TRMMKu  nearSurfdBZ_TRMMKu  rainType_TRMMKu  orbitID_GPMKu  \\\n",
      "count   140697.000000       140697.000000     140697.00000  140697.000000   \n",
      "mean     94100.841354           29.287582          1.36848    1334.116371   \n",
      "std        926.723630            6.583862          0.48387     924.840910   \n",
      "min      92926.000000           18.319050          1.00000     161.000000   \n",
      "25%      93202.000000           24.034016          1.00000     437.000000   \n",
      "50%      94015.000000           28.603252          1.00000    1249.000000   \n",
      "75%      94843.000000           33.695381          2.00000    2075.000000   \n",
      "max      96229.000000           62.944580          3.00000    3458.000000   \n",
      "\n",
      "       nearSurfdBZ_GPMKu  LandOcean_GPMKu  rainType_GPMKu  dBZ20_Htop_TRMMKu  \\\n",
      "count      140697.000000    140697.000000   140697.000000      140697.000000   \n",
      "mean           29.440060         0.272444        1.329737           5.795945   \n",
      "std             6.857568         0.483293        0.473304           2.264829   \n",
      "min            18.000153         0.000000        1.000000           0.625000   \n",
      "25%            24.024597         0.000000        1.000000           4.393768   \n",
      "50%            28.810999         0.000000        1.000000           5.631703   \n",
      "75%            34.078754         1.000000        2.000000           7.107264   \n",
      "max            60.804680         3.000000        3.000000          18.522261   \n",
      "\n",
      "       dBZ35_Htop_TRMMKu  dBZ20_Htop_GPMKu  dBZ35_Htop_GPMKu  \n",
      "count      140697.000000     140697.000000     140697.000000  \n",
      "mean            1.353587          5.970535          1.430764  \n",
      "std             2.170679          2.382897          2.222515  \n",
      "min             0.000000          0.250000          0.000000  \n",
      "25%             0.000000          4.513376          0.000000  \n",
      "50%             0.000000          5.791096          0.000000  \n",
      "75%             3.069445          7.408482          3.477376  \n",
      "max            17.787281         20.143162         17.398006  \n"
     ]
    },
    {
     "data": {
      "text/plain": [
       "\"\\nBIAS_Topht20[NUM_Topht20<=400] = np.nan\\n\\nfn = 'BIAS_ConvOcean_Topht20_2014coincident_02A'\\nplot_grid(fn, BIAS_Topht20, 100*NUM_Topht20/np.nanmax(NUM_Topht20), shade_var='BIAS', is_hist=False, hist_df=Topht20, cb_label='BIAS (km)')\\n#fn = 'BIAS_Stra_Topht20_2014coincident_02B'\\n#plot_grid(fn, BIAS_Topht20, 100*NUM_Topht20/np.nanmax(NUM_Topht20), shade_var='BIAS', is_hist=True, hist_df=Topht20, cb_label='BIAS (km)')\\n\""
      ]
     },
     "execution_count": 7,
     "metadata": {},
     "output_type": "execute_result"
    }
   ],
   "source": [
    "# filter: dBZ20_Htop\n",
    "thh_dBZ_GPM, thh_dBZ_TRMM = 18, 18  # dBZ\n",
    "key_vars = ['dBZ20_Htop_TRMMKu', 'dBZ20_Htop_GPMKu']\n",
    "filter = f'({key_vars[0]} > 0) & ({key_vars[1]} > 0) & (nearSurfdBZ_TRMMKu>={thh_dBZ_TRMM}) & (nearSurfdBZ_GPMKu>={thh_dBZ_GPM})'\n",
    "#filter = f'({key_vars[0]} > 0) & ({key_vars[1]} > 0) & (LandOcean_GPMKu == 0) & (rainType_TRMMKu == 2) & (rainType_GPMKu == 2)' # Conv. both over land  \n",
    "#filter = f'({key_vars[0]} > 0) & ({key_vars[1]} > 0) & (LandOcean_GPMKu == 0) & (rainType_TRMMKu == 1) & (rainType_GPMKu == 1)' # Stra. both over land  \n",
    "\n",
    "Topht20 = df.query(filter)  #[xy_vars + key_vars]\n",
    "print(Topht20.describe())\n",
    "      \n",
    "##############\n",
    "PCC_Topht20, NUM_Topht20, BIAS_Topht20 = PCC_matrix(Topht20, key_vars)\n",
    "'''\n",
    "fn = 'PCC_Topht20_2014coincident_01A'\n",
    "plot_grid(fn, 100*NUM_Topht20/NUM_Topht20.max(), PCC_Topht20, shade_var='NUM', is_hist=False, hist_df=Topht20)\n",
    "fn = 'PCC_Topht20_2014coincident_01B'\n",
    "plot_grid(fn, 100*NUM_Topht20/NUM_Topht20.max(), PCC_Topht20, shade_var='NUM', is_hist=True, hist_df=Topht20)\n",
    "\n",
    "'''\n",
    "fn = 'PCC_Topht20_2014coincident_02A'\n",
    "plot_grid(fn, PCC_Topht20, 100*NUM_Topht20/NUM_Topht20.max(), shade_var='PCC', is_hist=False, hist_df=Topht20)\n",
    "fn = 'PCC_Topht20_2014coincident_02B'\n",
    "plot_grid(fn, PCC_Topht20, 100*NUM_Topht20/NUM_Topht20.max(), shade_var='PCC', is_hist=True, hist_df=Topht20)\n",
    "\n",
    "'''\n",
    "BIAS_Topht20[NUM_Topht20<=400] = np.nan\n",
    "\n",
    "fn = 'BIAS_ConvOcean_Topht20_2014coincident_02A'\n",
    "plot_grid(fn, BIAS_Topht20, 100*NUM_Topht20/np.nanmax(NUM_Topht20), shade_var='BIAS', is_hist=False, hist_df=Topht20, cb_label='BIAS (km)')\n",
    "#fn = 'BIAS_Stra_Topht20_2014coincident_02B'\n",
    "#plot_grid(fn, BIAS_Topht20, 100*NUM_Topht20/np.nanmax(NUM_Topht20), shade_var='BIAS', is_hist=True, hist_df=Topht20, cb_label='BIAS (km)')\n",
    "'''"
   ]
  },
  {
   "cell_type": "code",
   "execution_count": 8,
   "metadata": {
    "ExecuteTime": {
     "end_time": "2022-04-19T22:52:16.407151Z",
     "start_time": "2022-04-19T22:52:16.362138Z"
    }
   },
   "outputs": [],
   "source": [
    "# answer reviewer02, PCC color\n",
    "sfx_cols = ['rainType_TRMMKu', 'rainType_GPMKu', 'LandOcean_GPMKu',       \n",
    "            'loc_x_TRMMKu', 'loc_y_TRMMKu', 'orbitID_TRMMKu', 'loc_x_GPMKu', 'loc_y_GPMKu', 'orbitID_GPMKu']\n",
    "\n",
    "PCC = np.full(5, fill_value=np.nan, dtype=np.float32)\n",
    "NUM = np.zeros(5, dtype=np.int32)\n",
    "SMPs = {}\n",
    "\n",
    "yval = 4\n",
    "for idx, xval in enumerate(x_value[:4]):\n",
    "    criteria = f'({xy_vars[0]} <= {xval:.1f}) & ({xy_vars[1]} <= {yval:.0f})'\n",
    "    df_tmp = Topht20.query(criteria)[key_vars+[xy_vars[0]]+sfx_cols]\n",
    "\n",
    "    NUM[idx] = df_tmp.shape[0]\n",
    "    PCC[idx] = df_tmp[key_vars].corr().to_numpy()[0, 1]\n",
    "    SMPs[idx] = df_tmp[key_vars+sfx_cols]\n",
    "    SMPs[idx]['AbsDlt_Topht20'] = np.abs((df_tmp[key_vars[1]] - df_tmp[key_vars[0]]).values)\n",
    "    SMPs[idx]['New'] = 0\n",
    "    if idx > 0:\n",
    "        SMPs[idx].loc[df_tmp[xy_vars[0]]>x_value[idx-1], 'New'] = 1\n",
    "    SMPs[idx].columns = ['TRMM_PR', 'GPM_KuPR']+sfx_cols+['AbsDlt_Topht20','New']\n",
    "#    print(df_tmp[key_vars].max(), df_tmp[key_vars].min())\n",
    "    \n",
    "rngs = [0.5, 17.5]"
   ]
  },
  {
   "cell_type": "code",
   "execution_count": 7,
   "metadata": {
    "ExecuteTime": {
     "end_time": "2022-04-06T21:03:13.757994Z",
     "start_time": "2022-04-06T21:03:13.707995Z"
    }
   },
   "outputs": [
    {
     "data": {
      "text/html": [
       "<div>\n",
       "<style scoped>\n",
       "    .dataframe tbody tr th:only-of-type {\n",
       "        vertical-align: middle;\n",
       "    }\n",
       "\n",
       "    .dataframe tbody tr th {\n",
       "        vertical-align: top;\n",
       "    }\n",
       "\n",
       "    .dataframe thead th {\n",
       "        text-align: right;\n",
       "    }\n",
       "</style>\n",
       "<table border=\"1\" class=\"dataframe\">\n",
       "  <thead>\n",
       "    <tr style=\"text-align: right;\">\n",
       "      <th></th>\n",
       "      <th>TRMM_PR</th>\n",
       "      <th>GPM_KuPR</th>\n",
       "      <th>rainType_TRMMKu</th>\n",
       "      <th>rainType_GPMKu</th>\n",
       "      <th>LandOcean_GPMKu</th>\n",
       "      <th>loc_x_TRMMKu</th>\n",
       "      <th>loc_y_TRMMKu</th>\n",
       "      <th>orbitID_TRMMKu</th>\n",
       "      <th>loc_x_GPMKu</th>\n",
       "      <th>loc_y_GPMKu</th>\n",
       "      <th>orbitID_GPMKu</th>\n",
       "      <th>AbsDlt_Topht20</th>\n",
       "      <th>New</th>\n",
       "    </tr>\n",
       "  </thead>\n",
       "  <tbody>\n",
       "    <tr>\n",
       "      <th>count</th>\n",
       "      <td>23.000000</td>\n",
       "      <td>23.000000</td>\n",
       "      <td>23.000000</td>\n",
       "      <td>23.000000</td>\n",
       "      <td>23.000000</td>\n",
       "      <td>23.000000</td>\n",
       "      <td>23.000000</td>\n",
       "      <td>23.000000</td>\n",
       "      <td>23.000000</td>\n",
       "      <td>23.000000</td>\n",
       "      <td>23.000000</td>\n",
       "      <td>23.000000</td>\n",
       "      <td>23.0</td>\n",
       "    </tr>\n",
       "    <tr>\n",
       "      <th>mean</th>\n",
       "      <td>7.674458</td>\n",
       "      <td>8.840300</td>\n",
       "      <td>1.521739</td>\n",
       "      <td>1.608696</td>\n",
       "      <td>0.304348</td>\n",
       "      <td>5699.869565</td>\n",
       "      <td>20.391304</td>\n",
       "      <td>93364.956522</td>\n",
       "      <td>4874.260870</td>\n",
       "      <td>27.043478</td>\n",
       "      <td>599.565217</td>\n",
       "      <td>3.592206</td>\n",
       "      <td>1.0</td>\n",
       "    </tr>\n",
       "    <tr>\n",
       "      <th>std</th>\n",
       "      <td>3.451610</td>\n",
       "      <td>3.571409</td>\n",
       "      <td>0.510754</td>\n",
       "      <td>0.499011</td>\n",
       "      <td>0.558796</td>\n",
       "      <td>2047.876490</td>\n",
       "      <td>15.314103</td>\n",
       "      <td>649.006757</td>\n",
       "      <td>1681.229102</td>\n",
       "      <td>13.946255</td>\n",
       "      <td>647.639337</td>\n",
       "      <td>1.649570</td>\n",
       "      <td>0.0</td>\n",
       "    </tr>\n",
       "    <tr>\n",
       "      <th>min</th>\n",
       "      <td>2.121250</td>\n",
       "      <td>1.911017</td>\n",
       "      <td>1.000000</td>\n",
       "      <td>1.000000</td>\n",
       "      <td>0.000000</td>\n",
       "      <td>2093.000000</td>\n",
       "      <td>2.000000</td>\n",
       "      <td>93121.000000</td>\n",
       "      <td>1842.000000</td>\n",
       "      <td>0.000000</td>\n",
       "      <td>356.000000</td>\n",
       "      <td>2.080893</td>\n",
       "      <td>1.0</td>\n",
       "    </tr>\n",
       "    <tr>\n",
       "      <th>25%</th>\n",
       "      <td>5.930788</td>\n",
       "      <td>6.840633</td>\n",
       "      <td>1.000000</td>\n",
       "      <td>1.000000</td>\n",
       "      <td>0.000000</td>\n",
       "      <td>4357.500000</td>\n",
       "      <td>10.000000</td>\n",
       "      <td>93152.000000</td>\n",
       "      <td>4134.500000</td>\n",
       "      <td>19.000000</td>\n",
       "      <td>387.000000</td>\n",
       "      <td>2.345518</td>\n",
       "      <td>1.0</td>\n",
       "    </tr>\n",
       "    <tr>\n",
       "      <th>50%</th>\n",
       "      <td>6.724359</td>\n",
       "      <td>8.901680</td>\n",
       "      <td>2.000000</td>\n",
       "      <td>2.000000</td>\n",
       "      <td>0.000000</td>\n",
       "      <td>6699.000000</td>\n",
       "      <td>15.000000</td>\n",
       "      <td>93189.000000</td>\n",
       "      <td>5683.000000</td>\n",
       "      <td>33.000000</td>\n",
       "      <td>424.000000</td>\n",
       "      <td>3.063328</td>\n",
       "      <td>1.0</td>\n",
       "    </tr>\n",
       "    <tr>\n",
       "      <th>75%</th>\n",
       "      <td>10.785608</td>\n",
       "      <td>10.664397</td>\n",
       "      <td>2.000000</td>\n",
       "      <td>2.000000</td>\n",
       "      <td>0.500000</td>\n",
       "      <td>7102.000000</td>\n",
       "      <td>33.000000</td>\n",
       "      <td>93208.500000</td>\n",
       "      <td>6005.500000</td>\n",
       "      <td>37.000000</td>\n",
       "      <td>443.500000</td>\n",
       "      <td>4.179421</td>\n",
       "      <td>1.0</td>\n",
       "    </tr>\n",
       "    <tr>\n",
       "      <th>max</th>\n",
       "      <td>13.277344</td>\n",
       "      <td>15.783871</td>\n",
       "      <td>2.000000</td>\n",
       "      <td>2.000000</td>\n",
       "      <td>2.000000</td>\n",
       "      <td>7334.000000</td>\n",
       "      <td>48.000000</td>\n",
       "      <td>95901.000000</td>\n",
       "      <td>6190.000000</td>\n",
       "      <td>46.000000</td>\n",
       "      <td>3130.000000</td>\n",
       "      <td>8.216592</td>\n",
       "      <td>1.0</td>\n",
       "    </tr>\n",
       "  </tbody>\n",
       "</table>\n",
       "</div>"
      ],
      "text/plain": [
       "         TRMM_PR   GPM_KuPR  rainType_TRMMKu  rainType_GPMKu  LandOcean_GPMKu  \\\n",
       "count  23.000000  23.000000        23.000000       23.000000        23.000000   \n",
       "mean    7.674458   8.840300         1.521739        1.608696         0.304348   \n",
       "std     3.451610   3.571409         0.510754        0.499011         0.558796   \n",
       "min     2.121250   1.911017         1.000000        1.000000         0.000000   \n",
       "25%     5.930788   6.840633         1.000000        1.000000         0.000000   \n",
       "50%     6.724359   8.901680         2.000000        2.000000         0.000000   \n",
       "75%    10.785608  10.664397         2.000000        2.000000         0.500000   \n",
       "max    13.277344  15.783871         2.000000        2.000000         2.000000   \n",
       "\n",
       "       loc_x_TRMMKu  loc_y_TRMMKu  orbitID_TRMMKu  loc_x_GPMKu  loc_y_GPMKu  \\\n",
       "count     23.000000     23.000000       23.000000    23.000000    23.000000   \n",
       "mean    5699.869565     20.391304    93364.956522  4874.260870    27.043478   \n",
       "std     2047.876490     15.314103      649.006757  1681.229102    13.946255   \n",
       "min     2093.000000      2.000000    93121.000000  1842.000000     0.000000   \n",
       "25%     4357.500000     10.000000    93152.000000  4134.500000    19.000000   \n",
       "50%     6699.000000     15.000000    93189.000000  5683.000000    33.000000   \n",
       "75%     7102.000000     33.000000    93208.500000  6005.500000    37.000000   \n",
       "max     7334.000000     48.000000    95901.000000  6190.000000    46.000000   \n",
       "\n",
       "       orbitID_GPMKu  AbsDlt_Topht20   New  \n",
       "count      23.000000       23.000000  23.0  \n",
       "mean      599.565217        3.592206   1.0  \n",
       "std       647.639337        1.649570   0.0  \n",
       "min       356.000000        2.080893   1.0  \n",
       "25%       387.000000        2.345518   1.0  \n",
       "50%       424.000000        3.063328   1.0  \n",
       "75%       443.500000        4.179421   1.0  \n",
       "max      3130.000000        8.216592   1.0  "
      ]
     },
     "execution_count": 7,
     "metadata": {},
     "output_type": "execute_result"
    }
   ],
   "source": [
    "tmps = SMPs[1].query('(New==1)&(AbsDlt_Topht20>2)')\n",
    "tmps.describe()"
   ]
  },
  {
   "cell_type": "code",
   "execution_count": 16,
   "metadata": {
    "ExecuteTime": {
     "end_time": "2022-04-04T18:44:14.241731Z",
     "start_time": "2022-04-04T18:44:14.195730Z"
    }
   },
   "outputs": [
    {
     "name": "stdout",
     "output_type": "stream",
     "text": [
      "0 0 0 0.0\n",
      "1 12 12 3.6809815950920246\n",
      "2 11 23 2.9449423815621\n",
      "3 13 36 2.55500354861604\n"
     ]
    }
   ],
   "source": [
    "Ddlt = 3\n",
    "for idx, idf in SMPs.items():\n",
    "    nn = idf.query(f'(New==1)&(AbsDlt_Topht20>{Ddlt})').shape[0]\n",
    "    nn_all = idf.query(f'(AbsDlt_Topht20>{Ddlt})').shape[0]\n",
    "    print(idx, nn, nn_all, 100*nn_all/idf.shape[0])"
   ]
  },
  {
   "cell_type": "code",
   "execution_count": 8,
   "metadata": {
    "ExecuteTime": {
     "end_time": "2022-04-06T21:03:29.057957Z",
     "start_time": "2022-04-06T21:03:29.031919Z"
    }
   },
   "outputs": [],
   "source": [
    "def plot_multi_scatters(fn, dadfs, PCCs, NUMs):\n",
    "    plot = Plotting(global_xy=False, fontsize=22)\n",
    "    \n",
    "    nrows, ncols = 1, 4\n",
    "    sns.set_context('talk', font_scale=1)\n",
    "    fig, ax = plt.subplots(nrows=nrows, ncols=ncols, figsize=(18, 4),sharey=True) # sharex=True, \n",
    "    fig.subplots_adjust(wspace=0.15, hspace=0.15)\n",
    "    \n",
    "    for idx in np.arange(ncols):\n",
    "        iax = ax[idx]\n",
    "        \n",
    "        if idx == 1:\n",
    "            is_lgd = True\n",
    "        else:\n",
    "            is_lgd = False\n",
    "        \n",
    "        dadf = dadfs[idx].query('New==0')[['GPM_KuPR', 'TRMM_PR']]\n",
    "        iax.scatter(x=dadf['GPM_KuPR'], y=dadf['TRMM_PR'],\n",
    "                        s=30, color='blue',  #hue='New', style='New', \n",
    "                        label='Old',# legend=is_lgd,\n",
    "                        marker='.', edgecolor=None, alpha=0.4)\n",
    "        \n",
    "        dadf = dadfs[idx].query('New==1')[['GPM_KuPR', 'TRMM_PR']]\n",
    "        iax.scatter(x=dadf['GPM_KuPR'], y=dadf['TRMM_PR'],\n",
    "                        s=30, color='red',  #hue='New', style='New'\n",
    "                        label='New',#  legend=is_lgd,\n",
    "                        marker='.', edgecolor=None, alpha=0.4)\n",
    "        \n",
    "        if is_lgd:\n",
    "            hand, _ = iax.get_legend_handles_labels()\n",
    "            iax.legend(hand, ['Old','New'], fontsize=14,\n",
    "                       loc=(-0.52,0.02), ncol=1)\n",
    "        \n",
    "        iax.set_xlim(rngs)\n",
    "        iax.set_ylim(rngs)\n",
    "        \n",
    "        iax.xaxis.set_major_locator(ticker.MultipleLocator(4))\n",
    "        iax.xaxis.set_minor_locator(ticker.MultipleLocator(1))\n",
    "        iax.yaxis.set_major_locator(ticker.MultipleLocator(4))\n",
    "        iax.yaxis.set_minor_locator(ticker.MultipleLocator(1))\n",
    "        iax.axline(xy1=(rngs[0], rngs[0]), xy2=(rngs[1], rngs[1]), linestyle='--', color='k')\n",
    "        \n",
    "        if (idx==0):\n",
    "            iax.set_ylabel('TRMM_PR')\n",
    "        if idx ==2:\n",
    "            iax.set_xlabel('')\n",
    "            iax.text(x=-0.275, y=-0.15, s='GPM_KuPR', \n",
    "                 ma='left', ha='left', va='top', color='black', transform=iax.transAxes)\n",
    "        else:\n",
    "            iax.set_xlabel('')\n",
    "        \n",
    "        iax.text(x=0.01, y=0.98, s=f'{fig_idxs[idx]}', \n",
    "                 ma='left', ha='left', va='top', color='black', transform=iax.transAxes)\n",
    "        iax.text(x=0, y=1.01, \n",
    "                     s=f'PCC={PCCs[idx]:5.03f}    NUM={NUMs[idx]:4.0f}',  \n",
    "                     ma='left', ha='left', va='bottom', color='black', transform=iax.transAxes)\n",
    "        \n",
    "    plot._save_fig(fn, fig)  \n",
    "    del plot\n",
    "    return"
   ]
  },
  {
   "cell_type": "code",
   "execution_count": 9,
   "metadata": {
    "ExecuteTime": {
     "end_time": "2022-04-06T21:03:34.059873Z",
     "start_time": "2022-04-06T21:03:31.320271Z"
    }
   },
   "outputs": [],
   "source": [
    "# END answer reviewer02\n",
    "fn = 'coincident_scatter5_PCC'\n",
    "plot_multi_scatters(fn, SMPs, PCC, NUM)"
   ]
  },
  {
   "cell_type": "code",
   "execution_count": 53,
   "metadata": {
    "ExecuteTime": {
     "end_time": "2022-04-01T20:43:00.428040Z",
     "start_time": "2022-04-01T20:43:00.417026Z"
    }
   },
   "outputs": [
    {
     "data": {
      "text/plain": [
       "Index(['Lon_GPMKu', 'Lat_GPMKu', 'dlt_Dm', 'dlt_Tsec', 'nearSurfdBZ_TRMMKu',\n",
       "       'rainType_TRMMKu', 'nearSurfdBZ_GPMKu', 'LandOcean_GPMKu',\n",
       "       'rainType_GPMKu', 'dBZ20_Htop_TRMMKu', 'dBZ35_Htop_TRMMKu',\n",
       "       'dBZ20_Htop_GPMKu', 'dBZ35_Htop_GPMKu'],\n",
       "      dtype='object')"
      ]
     },
     "execution_count": 53,
     "metadata": {},
     "output_type": "execute_result"
    }
   ],
   "source": [
    "Topht20.columns"
   ]
  },
  {
   "cell_type": "code",
   "execution_count": 61,
   "metadata": {
    "ExecuteTime": {
     "end_time": "2022-04-20T00:29:29.305937Z",
     "start_time": "2022-04-20T00:29:28.288623Z"
    }
   },
   "outputs": [],
   "source": [
    "#import matplotlib.pyplot as plt\n",
    "#from matplotlib import cm, colors, ticker\n",
    "#import seaborn as sns\n",
    "import cartopy.crs as ccrs\n",
    "import copy\n",
    "\n",
    "import vaex as ve\n",
    "\n",
    "\n",
    "levs0 = [1, 10, 50, 100] +list(np.arange(500, 4500, 500))\n",
    "levs1 = [1, 10, 50] +list(np.arange(100, 1100, 100))\n",
    "\n",
    "lon_center = 0\n",
    "\n",
    "grid_resolution = 2\n",
    "grid_x, grid_y = np.meshgrid(np.arange(-179, 180, grid_resolution), np.arange(-37, 38, grid_resolution))\n",
    "grid_x, grid_y = grid_x.T, grid_y.T\n",
    "\n",
    "glb_lims, glb_shp = [[-180, 180.00000001], [-38,38.00000001]], [180, 38]\n",
    "\n",
    "##################\n",
    "def plot_CPs_multi(name, datas, unit='',save_zero=True, ll_rng=[], \n",
    "              cmap_rng=[], extend='neither', ckind='pr', pic_subdir=''):\n",
    "    \n",
    "    plot = Plotting(global_xy=True, fontsize=14,\n",
    "                    cb_shrink=0.9, cb_orientation='vertical')\n",
    "    \n",
    "    cmap = plot.icmap.set_cmap(rng=cmap_rng, c_firstwhite=False, kind=ckind) \n",
    "    \n",
    "    sns.set_context('talk', font_scale=1.0)  #         \n",
    "    proj = ccrs.PlateCarree(central_longitude=lon_center)  # np.mean(lon_rng)\n",
    "    fig, ax = plt.subplots(nrows=2, ncols=1, figsize=(14, 6), #sharex=True,\n",
    "                           subplot_kw=dict(projection=proj))\n",
    "    fig.subplots_adjust(wspace=0.2, hspace=0.2)\n",
    "    ####\n",
    "    ii = 0\n",
    "    obj0 = ax[ii].contourf(grid_x, grid_y, datas[0]+1.e-8, \n",
    "                          cmap=cmap, levels=levs0, \n",
    "                          norm=colors.BoundaryNorm(boundaries=np.array(levs0), ncolors=cmap.N), \n",
    "                          alpha=1, zorder=2, extend='max')\n",
    "    obj0.cmap.set_over('indigo')\n",
    "    _, cb = plot.__load_ax_settings__(fig, ax[ii], proj, obj0, var='', rng=ll_rng, unit=unit, lon_center=lon_center,\n",
    "                             pad=0.02, aspect=15)\n",
    "    \n",
    "    cb.ax.set_yticks(cb.ax.get_yticks())\n",
    "    tlabs = [val.get_text() for val in cb.ax.get_yticklabels()]\n",
    "    cb.ax.set_yticklabels([val if int(val)<1000 else f'{int(val)/1000:.0f},000' for val in tlabs])\n",
    "    \n",
    "    ax[ii].text(x=0.01, y=1.01, s=f'{fig_idxs[ii]}', \n",
    "                 ma='right', ha='left', va='bottom', color='black', transform=ax[ii].transAxes) #fontsize=12, \n",
    "    \n",
    "    ####\n",
    "    ii = 1\n",
    "    obj1 = ax[ii].contourf(grid_x, grid_y, datas[1]+1.e-8,  \n",
    "                          cmap=cmap, levels=levs1, \n",
    "                          norm=colors.BoundaryNorm(boundaries=np.array(levs1), ncolors=cmap.N), \n",
    "                          alpha=1, zorder=2, extend='max')\n",
    "    obj1.cmap.set_over('indigo')\n",
    "    _, cb = plot.__load_ax_settings__(fig, ax[ii], proj, obj1, var='', rng=ll_rng, unit=unit, lon_center=lon_center,\n",
    "                             pad=0.02, aspect=15)\n",
    "    cb.ax.set_yticks(cb.ax.get_yticks())\n",
    "    tlabs = [val.get_text() for val in cb.ax.get_yticklabels()]\n",
    "    cb.ax.set_yticklabels([val if int(val)<1000 else f'{int(val)/1000:.0f},000' for val in tlabs])\n",
    "    \n",
    "    ax[ii].text(x=0.01, y=1.01, s=f'{fig_idxs[ii]}', \n",
    "                 ma='right', ha='left', va='bottom', color='black', transform=ax[ii].transAxes) #fontsize=12, \n",
    "    \n",
    "    \n",
    "    plot._save_fig(name, fig)\n",
    "    del plot\n",
    "    \n",
    "    \n",
    "def grid_counts(VEDF, COLS, selection=[]):\n",
    "    if len(selection) == 0:\n",
    "        data = VEDF.count(VEDF[COLS[-1]], binby=COLS[:2], limits=glb_lims, shape=glb_shp\n",
    "                              ).astype(np.int32)\n",
    "    else:\n",
    "        sele = ' & '.join(selection) if selection.__len__() > 1 else selection[0]\n",
    "        data = VEDF.count(VEDF[COLS[-1]], binby=COLS[:2], limits=glb_lims, shape=glb_shp,\n",
    "                              selection=sele).astype(np.int32)\n",
    "            \n",
    "    return data"
   ]
  },
  {
   "cell_type": "code",
   "execution_count": 9,
   "metadata": {
    "ExecuteTime": {
     "end_time": "2022-04-19T22:52:25.252910Z",
     "start_time": "2022-04-19T22:52:24.882870Z"
    }
   },
   "outputs": [
    {
     "name": "stdout",
     "output_type": "stream",
     "text": [
      "(3929231, 19) (97619, 19)\n",
      "4102 1015\n"
     ]
    }
   ],
   "source": [
    "DT_filter = f'({xy_vars[0]} <= 2.5) & ({xy_vars[1]} <= 15)'\n",
    "vedf_all = ve.from_pandas(df.query(DT_filter))\n",
    "vedf_CPs = ve.from_pandas(Topht20.query(DT_filter))\n",
    "print(vedf_all.shape, vedf_CPs.shape)\n",
    "\n",
    "cols = ['Lon_GPMKu', 'Lat_GPMKu', 'dlt_Tsec']\n",
    "grid_all = grid_counts(vedf_all[cols], cols)\n",
    "grid_CPs = grid_counts(vedf_CPs[cols], cols)\n",
    "print(grid_all.max(), grid_CPs.max())"
   ]
  },
  {
   "cell_type": "code",
   "execution_count": 62,
   "metadata": {
    "ExecuteTime": {
     "end_time": "2022-04-20T00:29:36.949435Z",
     "start_time": "2022-04-20T00:29:31.452480Z"
    }
   },
   "outputs": [
    {
     "name": "stderr",
     "output_type": "stream",
     "text": [
      "<ipython-input-61-8ba86e8737cc>:45: UserWarning: Use the colorbar set_ticks() method instead.\n",
      "  cb.ax.set_yticks(cb.ax.get_yticks())\n",
      "<ipython-input-61-8ba86e8737cc>:61: UserWarning: Use the colorbar set_ticks() method instead.\n",
      "  cb.ax.set_yticks(cb.ax.get_yticks())\n"
     ]
    }
   ],
   "source": [
    "name = 'Global_distribution_multi_CPs'\n",
    "tmp = plot_CPs_multi(name, [grid_all, grid_CPs], ll_rng=[-180, 180, -38, 38],\n",
    "               cmap_rng=list(np.arange(6)+1), ckind='pr1',extend='max')"
   ]
  },
  {
   "cell_type": "code",
   "execution_count": 12,
   "metadata": {
    "ExecuteTime": {
     "end_time": "2022-01-26T00:22:16.218110Z",
     "start_time": "2022-01-26T00:22:08.518237Z"
    }
   },
   "outputs": [
    {
     "name": "stdout",
     "output_type": "stream",
     "text": [
      "              dlt_Dm       dlt_Tsec  nearSurfdBZ_TRMMKu  nearSurfdBZ_GPMKu\n",
      "count  160527.000000  160527.000000       160527.000000      160527.000000\n",
      "mean        1.740163       8.057297           28.494213          27.848175\n",
      "std         0.656345       6.021128            6.689068           7.723290\n",
      "min         0.006534       0.000000           18.277407           0.763357\n",
      "25%         1.271936       2.683333           22.856597          21.869166\n",
      "50%         1.804850       6.250000           27.665642          27.475376\n",
      "75%         2.245487      13.516667           32.986403          33.250204\n",
      "max         2.999968      20.000000           62.944580          60.804680\n"
     ]
    }
   ],
   "source": [
    "# filter: nearSurfdBZ\n",
    "key_vars = ['nearSurfdBZ_TRMMKu', 'nearSurfdBZ_GPMKu']\n",
    "filter = f'({key_vars[0]} > 0) & ({key_vars[1]} > 0)'\n",
    "nearSurfdBZ = df.query(filter)[xy_vars + key_vars]\n",
    "print(nearSurfdBZ.describe())\n",
    "\n",
    "##############\n",
    "PCC_nearSurfdBZ, NUM_nearSurfdBZ, _ = PCC_matrix(nearSurfdBZ, key_vars)\n",
    "'''\n",
    "fn = 'PCC_nearSurfdBZ_2014coincident_01A'\n",
    "plot_grid(fn, 100*NUM_nearSurfdBZ/NUM_nearSurfdBZ.max(), PCC_nearSurfdBZ, shade_var='NUM', is_hist=False, hist_df=nearSurfdBZ)\n",
    "fn = 'PCC_nearSurfdBZ_2014coincident_01B'\n",
    "plot_grid(fn, 100*NUM_nearSurfdBZ/NUM_nearSurfdBZ.max(), PCC_nearSurfdBZ, shade_var='NUM', is_hist=True, hist_df=nearSurfdBZ)\n",
    "'''\n",
    "\n",
    "fn = 'PCC_nearSurfdBZ_2014coincident_02A'\n",
    "plot_grid(fn, PCC_nearSurfdBZ, 100*NUM_nearSurfdBZ/NUM_nearSurfdBZ.max(), shade_var='PCC', is_hist=False, hist_df=nearSurfdBZ)\n",
    "fn = 'PCC_nearSurfdBZ_2014coincident_02B'\n",
    "plot_grid(fn, PCC_nearSurfdBZ, 100*NUM_nearSurfdBZ/NUM_nearSurfdBZ.max(), shade_var='PCC', is_hist=True, hist_df=nearSurfdBZ)"
   ]
  },
  {
   "cell_type": "code",
   "execution_count": 138,
   "metadata": {
    "ExecuteTime": {
     "end_time": "2021-12-21T01:56:27.901120Z",
     "start_time": "2021-12-21T01:56:14.854881Z"
    }
   },
   "outputs": [
    {
     "name": "stdout",
     "output_type": "stream",
     "text": [
      "              dlt_Dm       dlt_Tsec  nearSurfRain_TRMMKu  nearSurfRain_GPMKu\n",
      "count  160527.000000  160527.000000        160527.000000       160527.000000\n",
      "mean        1.740163       8.057297             3.602642            3.611163\n",
      "std         0.656345       6.021128             8.454342           10.590483\n",
      "min         0.006534       0.000000             0.192197            0.010640\n",
      "25%         1.271936       2.683333             0.717772            0.598604\n",
      "50%         1.804850       6.250000             1.506336            1.365430\n",
      "75%         2.245487      13.516667             3.251962            3.229117\n",
      "max         2.999968      20.000000           299.835419          299.997803\n"
     ]
    }
   ],
   "source": [
    "# filter: nearSurfRain\n",
    "key_vars = ['nearSurfRain_TRMMKu', 'nearSurfRain_GPMKu']\n",
    "filter = f'({key_vars[0]} > 0) & ({key_vars[1]} > 0)'\n",
    "nearSurfRain = df.query(filter)[xy_vars + key_vars]\n",
    "print(nearSurfRain.describe())\n",
    "      \n",
    "##############\n",
    "PCC_nearSurfRain, NUM_nearSurfRain, _ = PCC_matrix(nearSurfRain, key_vars)\n",
    "\n",
    "fn = 'PCC_nearSurfRain_2014coincident_01A'\n",
    "plot_grid(fn, 100*NUM_nearSurfRain/NUM_nearSurfRain.max(), PCC_nearSurfRain, shade_var='NUM', is_hist=False, hist_df=nearSurfRain)\n",
    "fn = 'PCC_nearSurfRain_2014coincident_01B'\n",
    "plot_grid(fn, 100*NUM_nearSurfRain/NUM_nearSurfRain.max(), PCC_nearSurfRain, shade_var='NUM', is_hist=True, hist_df=nearSurfRain)\n",
    "\n",
    "fn = 'PCC_nearSurfRain_2014coincident_02A'\n",
    "plot_grid(fn, PCC_nearSurfRain, 100*NUM_nearSurfRain/NUM_nearSurfRain.max(), shade_var='PCC', is_hist=False, hist_df=nearSurfRain)\n",
    "fn = 'PCC_nearSurfRain_2014coincident_02B'\n",
    "plot_grid(fn, PCC_nearSurfRain, 100*NUM_nearSurfRain/NUM_nearSurfRain.max(), shade_var='PCC', is_hist=True, hist_df=nearSurfRain)"
   ]
  },
  {
   "cell_type": "code",
   "execution_count": 7,
   "metadata": {
    "ExecuteTime": {
     "end_time": "2021-12-28T21:10:26.150222Z",
     "start_time": "2021-12-28T21:10:25.608187Z"
    }
   },
   "outputs": [
    {
     "name": "stdout",
     "output_type": "stream",
     "text": [
      "            dlt_Dm     dlt_Tsec  dBZ20_Htop_TRMMKu  dBZ20_Htop_GPMKu\n",
      "count  8799.000000  8799.000000        8799.000000       8799.000000\n",
      "mean      1.758698     8.362729           5.984379          5.834938\n",
      "std       0.658488     6.215164           1.802097          2.531938\n",
      "min       0.019905     0.000000           1.427326          0.673410\n",
      "25%       1.292965     2.666667           4.735621          3.796410\n",
      "50%       1.832147     6.350000           5.556569          5.793382\n",
      "75%       2.267339    14.583333           6.922196          7.518085\n",
      "max       2.998468    20.000000          16.049715         16.986034\n"
     ]
    },
    {
     "data": {
      "image/png": "[encoded data removed]",
      "text/plain": [
       "<Figure size 864x360 with 2 Axes>"
      ]
     },
     "metadata": {
      "needs_background": "light"
     },
     "output_type": "display_data"
    }
   ],
   "source": [
    "%matplotlib inline\n",
    "\n",
    "key_vars = ['dBZ20_Htop_TRMMKu', 'dBZ20_Htop_GPMKu']\n",
    "filter = f'({key_vars[0]} > 0) & ({key_vars[1]} > 0) & (rainType_TRMMKu == 1) & (rainType_GPMKu == 2) & (LandOcean_GPMKu == 0)'\n",
    "Topht20 = df.query(filter)[xy_vars + key_vars]\n",
    "print(Topht20.describe())\n",
    "\n",
    "Dist_bins = np.arange(0, 3.01, 0.1)\n",
    "Time_bins = np.arange(0, 21, 1)\n",
    "hgt_bins = np.arange(0, 20.01, 0.25)\n",
    "\n",
    "fig, ax = plt.subplots(1,2, figsize=(12, 5))\n",
    "#ax[0].hist(Topht20[xy_vars[0]], bins=Dist_bins, density=True)\n",
    "#ax[1].hist(Topht20[xy_vars[1]], bins=Time_bins, density=True)\n",
    "ax[0].hist(Topht20[key_vars[0]], bins=hgt_bins, density=True)\n",
    "ax[1].hist(Topht20[key_vars[1]], bins=hgt_bins, density=True)\n",
    "plt.show()"
   ]
  },
  {
   "cell_type": "code",
   "execution_count": 8,
   "metadata": {
    "ExecuteTime": {
     "end_time": "2021-12-28T21:10:27.263244Z",
     "start_time": "2021-12-28T21:10:26.649187Z"
    }
   },
   "outputs": [
    {
     "name": "stdout",
     "output_type": "stream",
     "text": [
      "             dlt_Dm      dlt_Tsec  dBZ20_Htop_TRMMKu  dBZ20_Htop_GPMKu\n",
      "count  14349.000000  14349.000000       14349.000000      14349.000000\n",
      "mean       1.740515      8.258677           4.683732          5.309959\n",
      "std        0.655640      6.197356           2.299115          1.943914\n",
      "min        0.019558      0.000000           0.849265          0.911638\n",
      "25%        1.270751      2.633333           2.996245          4.015816\n",
      "50%        1.797851      6.383333           3.882445          4.940266\n",
      "75%        2.248399     14.300000           6.074219          6.278572\n",
      "max        2.999925     20.000000          16.141932         16.363197\n"
     ]
    },
    {
     "data": {
      "image/png": "[encoded data removed]",
      "text/plain": [
       "<Figure size 864x360 with 2 Axes>"
      ]
     },
     "metadata": {
      "needs_background": "light"
     },
     "output_type": "display_data"
    }
   ],
   "source": [
    "%matplotlib inline\n",
    "\n",
    "key_vars = ['dBZ20_Htop_TRMMKu', 'dBZ20_Htop_GPMKu']\n",
    "filter = f'({key_vars[0]} > 0) & ({key_vars[1]} > 0) & (rainType_TRMMKu == 2) & (rainType_GPMKu == 1) & (LandOcean_GPMKu == 0)'\n",
    "Topht20 = df.query(filter)[xy_vars + key_vars]\n",
    "print(Topht20.describe())\n",
    "\n",
    "Dist_bins = np.arange(0, 3.01, 0.1)\n",
    "Time_bins = np.arange(0, 21, 1)\n",
    "hgt_bins = np.arange(0, 20.01, 0.25)\n",
    "\n",
    "fig, ax = plt.subplots(1,2, figsize=(12, 5))\n",
    "#ax[0].hist(Topht20[xy_vars[0]], bins=Dist_bins, density=True)\n",
    "#ax[1].hist(Topht20[xy_vars[1]], bins=Time_bins, density=True)\n",
    "ax[0].hist(Topht20[key_vars[0]], bins=hgt_bins, density=True)\n",
    "ax[1].hist(Topht20[key_vars[1]], bins=hgt_bins, density=True)\n",
    "plt.show()"
   ]
  },
  {
   "cell_type": "code",
   "execution_count": 34,
   "metadata": {
    "ExecuteTime": {
     "end_time": "2021-12-25T02:29:05.322588Z",
     "start_time": "2021-12-25T02:29:04.957981Z"
    }
   },
   "outputs": [
    {
     "name": "stdout",
     "output_type": "stream",
     "text": [
      "              dlt_Dm       dlt_Tsec  dBZ20_Htop_TRMMKu  dBZ20_Htop_GPMKu\n",
      "count  134027.000000  134027.000000      134027.000000     134027.000000\n",
      "mean        1.735807       7.888415           5.919035          6.027219\n",
      "std         0.657031       6.008118           2.188769          2.328456\n",
      "min         0.006534       0.000000           0.625000          0.250000\n",
      "25%         1.266300       2.633333           4.742872          4.739451\n",
      "50%         1.800100       6.000000           5.666295          5.813725\n",
      "75%         2.242028      13.116667           7.215242          7.455626\n",
      "max         2.999968      20.000000          18.522261         20.069527\n"
     ]
    },
    {
     "data": {
      "image/png": "[encoded data removed]",
      "text/plain": [
       "<Figure size 864x360 with 2 Axes>"
      ]
     },
     "metadata": {
      "needs_background": "light"
     },
     "output_type": "display_data"
    }
   ],
   "source": [
    "%matplotlib inline\n",
    "\n",
    "key_vars = ['dBZ20_Htop_TRMMKu', 'dBZ20_Htop_GPMKu']\n",
    "filter = f'({key_vars[0]} > 0) & ({key_vars[1]} > 0) & (rainType_TRMMKu == rainType_GPMKu)'\n",
    "Topht20 = df.query(filter)[xy_vars + key_vars]\n",
    "print(Topht20.describe())\n",
    "\n",
    "Dist_bins = np.arange(0, 3.01, 0.1)\n",
    "Time_bins = np.arange(0, 21, 1)\n",
    "\n",
    "fig, ax = plt.subplots(1,2, figsize=(12, 5))\n",
    "ax[0].hist(Topht20[xy_vars[0]], bins=Dist_bins, density=True)\n",
    "ax[1].hist(Topht20[xy_vars[1]], bins=Time_bins, density=True)\n",
    "plt.show()"
   ]
  },
  {
   "cell_type": "code",
   "execution_count": 14,
   "metadata": {
    "ExecuteTime": {
     "end_time": "2021-12-26T17:57:33.744602Z",
     "start_time": "2021-12-26T17:57:33.642346Z"
    }
   },
   "outputs": [
    {
     "name": "stdout",
     "output_type": "stream",
     "text": [
      "2 2 5761 18.343628605998855\n",
      "2 1 3331 10.606253582118066\n",
      "2 3 80 0.25472839584792717\n",
      "1 2 2573 8.192702031458957\n",
      "1 1 17203 54.776157422148636\n",
      "1 3 906 2.884799082977775\n",
      "3 2 79 0.25154429089982805\n",
      "3 1 523 1.6652868878558238\n",
      "3 3 950 3.0248997006941347\n"
     ]
    }
   ],
   "source": [
    "key_vars = ['dBZ20_Htop_TRMMKu', 'dBZ20_Htop_GPMKu', 'rainType_TRMMKu', 'rainType_GPMKu']\n",
    "filter = f'({key_vars[0]} > 0) & ({key_vars[1]} > 0) & ({xy_vars[0]}<=2.5) & ({xy_vars[1]}<=15) & (LandOcean_GPMKu == 1)'\n",
    "Topht20 = df.query(filter)[xy_vars + key_vars]\n",
    "\n",
    "total = Topht20.shape[0]\n",
    "for ii in [2, 1, 3]:\n",
    "    for jj in [2, 1, 3]:\n",
    "        filter = f'(rainType_TRMMKu=={ii}) & (rainType_GPMKu == {jj})' \n",
    "        num = Topht20.query(filter).shape[0]\n",
    "        print(ii, jj, num, 100*num/total)"
   ]
  },
  {
   "cell_type": "code",
   "execution_count": 8,
   "metadata": {
    "ExecuteTime": {
     "end_time": "2021-12-26T16:43:34.511458Z",
     "start_time": "2021-12-26T16:43:34.494422Z"
    }
   },
   "outputs": [
    {
     "data": {
      "text/plain": [
       "(5555204, 11)"
      ]
     },
     "execution_count": 8,
     "metadata": {},
     "output_type": "execute_result"
    }
   ],
   "source": [
    "df.shape"
   ]
  },
  {
   "cell_type": "code",
   "execution_count": null,
   "metadata": {},
   "outputs": [],
   "source": []
  }
 ],
 "metadata": {
  "kernelspec": {
   "display_name": "Python 3",
   "language": "python",
   "name": "python3"
  },
  "language_info": {
   "codemirror_mode": {
    "name": "ipython",
    "version": 3
   },
   "file_extension": ".py",
   "mimetype": "text/x-python",
   "name": "python",
   "nbconvert_exporter": "python",
   "pygments_lexer": "ipython3",
   "version": "3.8.3"
  },
  "latex_envs": {
   "LaTeX_envs_menu_present": true,
   "autoclose": false,
   "autocomplete": true,
   "bibliofile": "biblio.bib",
   "cite_by": "apalike",
   "current_citInitial": 1,
   "eqLabelWithNumbers": true,
   "eqNumInitial": 1,
   "hotkeys": {
    "equation": "Ctrl-E",
    "itemize": "Ctrl-I"
   },
   "labels_anchors": false,
   "latex_user_defs": false,
   "report_style_numbering": false,
   "user_envs_cfg": false
  },
  "toc": {
   "base_numbering": 1,
   "nav_menu": {},
   "number_sections": true,
   "sideBar": true,
   "skip_h1_title": false,
   "title_cell": "Table of Contents",
   "title_sidebar": "Contents",
   "toc_cell": false,
   "toc_position": {},
   "toc_section_display": true,
   "toc_window_display": false
  },
  "varInspector": {
   "cols": {
    "lenName": 16,
    "lenType": 16,
    "lenVar": 40
   },
   "kernels_config": {
    "python": {
     "delete_cmd_postfix": "",
     "delete_cmd_prefix": "del ",
     "library": "var_list.py",
     "varRefreshCmd": "print(var_dic_list())"
    },
    "r": {
     "delete_cmd_postfix": ") ",
     "delete_cmd_prefix": "rm(",
     "library": "var_list.r",
     "varRefreshCmd": "cat(var_dic_list()) "
    }
   },
   "types_to_exclude": [
    "module",
    "function",
    "builtin_function_or_method",
    "instance",
    "_Feature"
   ],
   "window_display": false
  }
 },
 "nbformat": 4,
 "nbformat_minor": 4
}
