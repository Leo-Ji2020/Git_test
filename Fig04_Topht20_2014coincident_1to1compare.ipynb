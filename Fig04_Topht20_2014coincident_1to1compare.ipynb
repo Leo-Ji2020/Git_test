{
 "cells": [
  {
   "cell_type": "code",
   "execution_count": 1,
   "metadata": {
    "ExecuteTime": {
     "end_time": "2022-04-20T00:32:05.946298Z",
     "start_time": "2022-04-20T00:32:04.461429Z"
    }
   },
   "outputs": [],
   "source": [
    "from module_Plot import Plotting\n",
    "\n",
    "import seaborn as sns\n",
    "import matplotlib.pyplot as plt\n",
    "from matplotlib import ticker, cm, colors\n",
    "\n",
    "import numpy as np\n",
    "import pandas as pd\n",
    "import os\n",
    "import copy\n",
    "\n",
    "\n",
    "plt.rcParams['axes.unicode_minus'] = False"
   ]
  },
  {
   "cell_type": "code",
   "execution_count": 2,
   "metadata": {
    "ExecuteTime": {
     "end_time": "2022-04-20T00:32:05.992002Z",
     "start_time": "2022-04-20T00:32:05.979002Z"
    }
   },
   "outputs": [],
   "source": [
    "loc_main = r'E:\\data\\_results\\common_radar\\used_data'\n",
    "\n",
    "fn_20dBZ_Htop = os.path.join(loc_main, '_TG_2D_flag.csv')\n",
    "\n",
    "base_legend = ['TRMM_PR', 'GPM_KuPR']\n",
    "\n",
    "sfcType_sep = ['LandOcean_GPMKu']\n",
    "sfcType = {0: 'Ocean', 1: 'Land'} # , 2: 'Coast'\n",
    "\n",
    "rainType = {1: 'Stratiform', 2: 'Convective'}\n",
    "\n",
    "self_colors = ['dodgerblue', 'salmon', 'limegreen', 'black']\n",
    "linestyles = ['-', '--', ':', '-.']\n",
    "\n",
    "fig_idxs = [f'({chr(ii)})' for ii in range(97, 123)]\n",
    "\n",
    "properties = {'dBZ20_Htop': ['dBZ20_Htop (km)', 0.25, [0,20], \n",
    "                            ['dBZ20_Htop_TRMMKu', 'dBZ20_Htop_GPMKu', 'DLT_dBZ20_Htop', 'LandOcean_GPMKu'], \n",
    "                             1, [-10, 10]], \n",
    "             'dBZ35_Htop': ['dBZ35_Htop (km)', 0.25, [0,20], \n",
    "                            ['dBZ35_Htop_TRMMKu', 'dBZ35_Htop_GPMKu', 'DLT_dBZ35_Htop', 'LandOcean_GPMKu'], \n",
    "                            1, [-10, 10]], \n",
    "             'nearSurfdBZ': ['nearSurfdBZ (dBZ)', 1, [10,65], \n",
    "                             ['nearSurfdBZ_TRMMKu', 'nearSurfdBZ_GPMKu', 'DLT_nearSurfdBZ', 'LandOcean_GPMKu'], \n",
    "                             2, [-35, 35]],\n",
    "             'nearSurfRain': [r'nearSurfRain (10$^x$ mm h$^{-1}$)', 0.1, [-1,3], \n",
    "                             ['nearSurfRain_TRMMKu', 'nearSurfRain_GPMKu', 'DLT_nearSurfRain', 'LandOcean_GPMKu'], \n",
    "                              0.1, [-3, 3]]}\n",
    "thh_dBZ_GPM, thh_dBZ_TRMM = 18, 18  # dBZ"
   ]
  },
  {
   "cell_type": "code",
   "execution_count": 3,
   "metadata": {
    "ExecuteTime": {
     "end_time": "2022-04-20T00:32:08.161436Z",
     "start_time": "2022-04-20T00:32:06.802430Z"
    }
   },
   "outputs": [
    {
     "data": {
      "text/plain": [
       "(Index(['Time_TRMMKu', 'Time_GPMKu', 'dlt_Dm', 'dlt_Tsec', 'orbitID_TRMMKu',\n",
       "        'loc_x_TRMMKu', 'loc_y_TRMMKu', 'orbitID_GPMKu', 'loc_x_GPMKu',\n",
       "        'loc_y_GPMKu', 'Lon_TRMMKu', 'Lat_TRMMKu', 'LocalHour_TRMMKu',\n",
       "        'nearSurfRain_TRMMKu', 'dBZ20_Htop_TRMMKu', 'dBZ35_Htop_TRMMKu',\n",
       "        'rainType_TRMMKu', 'HBB_TRMMKu', 'Lon_GPMKu', 'Lat_GPMKu',\n",
       "        'LocalHour_GPMKu', 'nearSurfRain_GPMKu', 'dBZ20_Htop_GPMKu',\n",
       "        'dBZ35_Htop_GPMKu', 'LandOcean_GPMKu', 'rainType_GPMKu', 'HBB_GPMKu',\n",
       "        'nearSurfdBZ_TRMMKu', 'surfRainPhase_TRMMKu', 'nearSurfdBZ_GPMKu',\n",
       "        'surfRainPhase_GPMKu', 'dBZ20_Npxl_TRMMKu', 'dBZ35_Npxl_TRMMKu',\n",
       "        'dBZ20_Npxl_GPMKu', 'dBZ35_Npxl_GPMKu', 'profile_TRMM', 'profile_GPM',\n",
       "        'GmT_Yloc_M', 'GmT_Yloc_L', 'GmT_Yloc_R', 'nearSurfRain_TRMMKu_log10',\n",
       "        'nearSurfRain_GPMKu_log10'],\n",
       "       dtype='object'),\n",
       " (217618, 42))"
      ]
     },
     "execution_count": 3,
     "metadata": {},
     "output_type": "execute_result"
    }
   ],
   "source": [
    "df_dBZ20 = pd.read_csv(fn_20dBZ_Htop, compression='gzip')\n",
    "df_dBZ20.columns, df_dBZ20.shape"
   ]
  },
  {
   "cell_type": "code",
   "execution_count": 6,
   "metadata": {
    "ExecuteTime": {
     "end_time": "2022-04-20T00:38:13.938692Z",
     "start_time": "2022-04-20T00:38:13.901710Z"
    }
   },
   "outputs": [],
   "source": [
    "queries = {'row0':'(dlt_Dm>=0)', 'row1': '(rainType_TRMMKu==2)&(rainType_GPMKu==2)', 'row2': '(rainType_TRMMKu==1)&(rainType_GPMKu==1)',\n",
    "           'col0':'(dlt_Dm>=0)', 'col1': '(LandOcean_GPMKu==1)', 'col2': '(LandOcean_GPMKu==0)'}\n",
    "\n",
    "# constant defination of 1to1 comparison\n",
    "bins = np.arange(0, 20.01, 0.25)\n",
    "\n",
    "levs = np.array([1, 5 ]+list(np.arange(10,101, 5)))  # percentage\n",
    "cb_labs = [1] + list(np.arange(10,101, 10))\n",
    "\n",
    "tick_loc = [4,1,4,1]\n",
    "var_LOC = ['ALL', 'Land', 'Ocean'] #, 'Coast'\n",
    "var_CS = ['ALL', 'Convective', 'Stratiform']\n",
    "\n",
    "from sklearn.metrics import mean_squared_error\n",
    "####\n",
    "def plot_9in1(fn, df_base, Vars, Varname='Topht20s'):\n",
    "    df = df_base.query(f'({Vars[0]}>0) & ({Vars[1]}>0)')\n",
    "    \n",
    "    plot = Plotting(global_xy=False, fontsize=22)\n",
    "    cmap = plot.icmap.set_cmap(rng=list(np.arange(6)+1), c_firstwhite=False, kind='pr1')  # copy.copy((cm.get_cmap('rainbow')))  \n",
    "    \n",
    "    nrows, ncols = 3, 3\n",
    "    sns.set_context('talk', font_scale=1.4)\n",
    "    fig, ax = plt.subplots(nrows=nrows, ncols=ncols, figsize=(21, 21), sharex=True, sharey=True) #\n",
    "    fig.subplots_adjust(wspace=0.15, hspace=0.15)\n",
    "    \n",
    "    ##     \n",
    "    grid_dict = {}\n",
    "    siglev = {}\n",
    "    for idx in np.arange(nrows):        \n",
    "        for jdx in np.arange(ncols):\n",
    "            iax = ax[idx][jdx]\n",
    "            iquery = '&'.join([queries[f'row{idx:.0f}'], queries[f'col{jdx:.0f}']])\n",
    "#            print(idx, jdx, iquery)\n",
    "            data = df.query(iquery)\n",
    "            grid, Xedge, Yedge, _ = iax.hist2d(data[Vars[0]], data[Vars[1]], \n",
    "                                               bins=bins, visible=False)\n",
    "            \n",
    "            grid_dict[Vars[0].split('_T')[0]+'_'+var_CS[idx]+'_'+var_LOC[jdx]] = grid\n",
    "            totDA, maxDA = data.shape[0], int(grid.max())\n",
    "            pctDA = 100*grid/maxDA\n",
    "            \n",
    "            obj = iax.pcolormesh(Xedge, Yedge, pctDA,\n",
    "                          cmap=cmap, shading='auto', \n",
    "                          norm=colors.BoundaryNorm(boundaries=levs, ncolors=cmap.N), \n",
    "                          edgecolors='none', alpha=1, zorder=2)\n",
    "            obj.cmap.set_under('white')\n",
    "            obj.cmap.set_over('firebrick')\n",
    "            \n",
    "            iax.axline(xy1=(bins.min(), bins.min()), xy2=(bins.max(), bins.max()),\n",
    "                               linestyle='--', color='k')\n",
    "            ###\n",
    "            pcc = data[Vars].corr().to_numpy()[0, 1]\n",
    "            rmse = np.sqrt(mean_squared_error(data[Vars[0]], data[Vars[1]]))\n",
    "            bias = (data[Vars[1]]-data[Vars[0]]).mean()\n",
    "#            print(f'{fig_idxs[jdx*ncols+idx]}: pcc= {pcc}, rmse= {rmse}, bias= {bias}')\n",
    "            ###\n",
    "            \n",
    "            iax.text(x=0.01, y=0.98, s=f'{fig_idxs[idx*ncols+jdx]}', \n",
    "                 ma='left', ha='left', va='top', color='black', transform=iax.transAxes)\n",
    "            iax.text(x=0.02, y=0.9, \n",
    "#                     s=f'PCC={pcc:.03f}\\nTotal={totDA}\\nNmax={maxDA}', \n",
    "                     s=f'PCC = {pcc:4.02f}\\nBIAS = {bias:4.02f}\\nRMSE = {rmse:4.02f}', fontsize=22, \n",
    "                     ma='left', ha='left', va='top', color='black', transform=iax.transAxes) #, fontsize=fz\n",
    "            str_totDA = f'{totDA}' if totDA<1000 else f'{totDA//1000:.0f},'+f'{totDA%1000:.0f}'\n",
    "            iax.text(x=0.98, y=0.15, \n",
    "                     s=f'Nmax = {maxDA}\\nTotal = {str_totDA}', fontsize=22, \n",
    "                     ma='right', ha='right', va='top', color='black', transform=iax.transAxes) #, fontsize=fz\n",
    "            \n",
    "            iax.xaxis.set_major_locator(ticker.MultipleLocator(tick_loc[0]))\n",
    "            iax.xaxis.set_minor_locator(ticker.MultipleLocator(tick_loc[1]))\n",
    "            iax.yaxis.set_major_locator(ticker.MultipleLocator(tick_loc[2]))\n",
    "            iax.yaxis.set_minor_locator(ticker.MultipleLocator(tick_loc[3]))\n",
    "    \n",
    "            if idx == 0:\n",
    "                iax.set_title(var_LOC[jdx])\n",
    "                \n",
    "            if (idx==1) & (jdx == 0):\n",
    "                iax.set_ylabel(f'{Varname} from {base_legend[0]} (km)')\n",
    "            if (idx==2) & (jdx == 1):\n",
    "                iax.set_xlabel(f'{Varname} from {base_legend[1]} (km)')\n",
    "            if jdx == 2:\n",
    "                iax.text(x=1.02, y=0.5, \n",
    "                     s=f'{var_CS[idx]}', rotation=90, \n",
    "                     ma='left', ha='left', va='center', color='black', transform=iax.transAxes)\n",
    "            \n",
    "            if (idx==2) & (jdx == 0):\n",
    "                cb_ax = iax.inset_axes(bounds=[0.8, -0.3, 1.7, 0.07])\n",
    "                cb = fig.colorbar(obj, cb_ax, orientation='horizontal') #shrink=cb_shrink, aspect=15, pad=0,  \n",
    "\n",
    "                cb.set_ticks(cb_labs)\n",
    "                cb.set_ticklabels(cb_labs)\n",
    "                cb.ax.tick_params(direction='in', length=4)\n",
    "                cb.ax.tick_params(which='minor', direction='in', length=2)\n",
    "        #            tick_labs = plot.__shrink_tail_zeros__(cb.get_ticks())\n",
    "        #            cb.ax.set_yticklabels(tick_labs, fontdict={'fontsize': plot.fontsize})  \n",
    "                cb.set_label(' Percentage (%)', labelpad=1) #, fontdict={'fontsize': plot.fontsize}\n",
    "            \n",
    "    plot._save_fig(fn, fig)  \n",
    "    del plot\n",
    "    return grid_dict, siglev"
   ]
  },
  {
   "cell_type": "code",
   "execution_count": 7,
   "metadata": {
    "ExecuteTime": {
     "end_time": "2022-04-20T00:38:48.654934Z",
     "start_time": "2022-04-20T00:38:34.324629Z"
    }
   },
   "outputs": [
    {
     "name": "stdout",
     "output_type": "stream",
     "text": [
      "(97619, 42)\n"
     ]
    }
   ],
   "source": [
    "df_dBZ20 = df_dBZ20.query(f'(dBZ20_Htop_TRMMKu > 0) & (dBZ20_Htop_GPMKu > 0) & (nearSurfdBZ_TRMMKu>={thh_dBZ_TRMM}) & (nearSurfdBZ_GPMKu>={thh_dBZ_GPM})')\n",
    "print(df_dBZ20.shape)\n",
    "fn = 'coincident_1to1cmp_LO_CS_dBZ20_Htop'\n",
    "grids, siglevs = plot_9in1(fn, df_dBZ20, ['dBZ20_Htop_TRMMKu', 'dBZ20_Htop_GPMKu'], Varname='Topht20s')"
   ]
  },
  {
   "cell_type": "code",
   "execution_count": 6,
   "metadata": {
    "ExecuteTime": {
     "end_time": "2022-02-03T18:40:25.735951Z",
     "start_time": "2022-02-03T18:40:10.238910Z"
    }
   },
   "outputs": [
    {
     "name": "stdout",
     "output_type": "stream",
     "text": [
      "(21873, 42)\n"
     ]
    }
   ],
   "source": [
    "df_dBZ35 = df_dBZ20.query(f'(dBZ35_Htop_TRMMKu > 0) & (dBZ35_Htop_GPMKu > 0) & (nearSurfdBZ_TRMMKu>={thh_dBZ_TRMM}) & (nearSurfdBZ_GPMKu>={thh_dBZ_GPM})')\n",
    "print(df_dBZ35.shape)\n",
    "fn = 'coincident_1to1cmp_LO_CS_dBZ35_Htop'\n",
    "grids, siglevs = plot_9in1(fn, df_dBZ35, ['dBZ35_Htop_TRMMKu', 'dBZ35_Htop_GPMKu'], Varname='Topht35s')"
   ]
  },
  {
   "cell_type": "code",
   "execution_count": 9,
   "metadata": {
    "ExecuteTime": {
     "end_time": "2022-04-06T21:38:01.314525Z",
     "start_time": "2022-04-06T21:38:01.291529Z"
    }
   },
   "outputs": [
    {
     "data": {
      "text/plain": [
       "(52340, 42)"
      ]
     },
     "execution_count": 9,
     "metadata": {},
     "output_type": "execute_result"
    }
   ],
   "source": [
    "df_dBZ20 = df_dBZ20.query('dlt_Tsec <= 300')  # constrain in 10 minutes\n",
    "df_dBZ20.shape"
   ]
  },
  {
   "cell_type": "code",
   "execution_count": null,
   "metadata": {},
   "outputs": [],
   "source": []
  }
 ],
 "metadata": {
  "kernelspec": {
   "display_name": "Python 3",
   "language": "python",
   "name": "python3"
  },
  "language_info": {
   "codemirror_mode": {
    "name": "ipython",
    "version": 3
   },
   "file_extension": ".py",
   "mimetype": "text/x-python",
   "name": "python",
   "nbconvert_exporter": "python",
   "pygments_lexer": "ipython3",
   "version": "3.8.3"
  },
  "latex_envs": {
   "LaTeX_envs_menu_present": true,
   "autoclose": false,
   "autocomplete": true,
   "bibliofile": "biblio.bib",
   "cite_by": "apalike",
   "current_citInitial": 1,
   "eqLabelWithNumbers": true,
   "eqNumInitial": 1,
   "hotkeys": {
    "equation": "Ctrl-E",
    "itemize": "Ctrl-I"
   },
   "labels_anchors": false,
   "latex_user_defs": false,
   "report_style_numbering": false,
   "user_envs_cfg": false
  },
  "toc": {
   "base_numbering": 1,
   "nav_menu": {},
   "number_sections": true,
   "sideBar": true,
   "skip_h1_title": false,
   "title_cell": "Table of Contents",
   "title_sidebar": "Contents",
   "toc_cell": false,
   "toc_position": {},
   "toc_section_display": true,
   "toc_window_display": false
  },
  "varInspector": {
   "cols": {
    "lenName": 16,
    "lenType": 16,
    "lenVar": 40
   },
   "kernels_config": {
    "python": {
     "delete_cmd_postfix": "",
     "delete_cmd_prefix": "del ",
     "library": "var_list.py",
     "varRefreshCmd": "print(var_dic_list())"
    },
    "r": {
     "delete_cmd_postfix": ") ",
     "delete_cmd_prefix": "rm(",
     "library": "var_list.r",
     "varRefreshCmd": "cat(var_dic_list()) "
    }
   },
   "types_to_exclude": [
    "module",
    "function",
    "builtin_function_or_method",
    "instance",
    "_Feature"
   ],
   "window_display": false
  }
 },
 "nbformat": 4,
 "nbformat_minor": 4
}
