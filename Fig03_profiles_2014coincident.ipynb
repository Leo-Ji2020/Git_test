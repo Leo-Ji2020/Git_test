{
 "cells": [
  {
   "cell_type": "code",
   "execution_count": 1,
   "metadata": {
    "ExecuteTime": {
     "end_time": "2022-04-06T20:43:14.434880Z",
     "start_time": "2022-04-06T20:43:12.679844Z"
    }
   },
   "outputs": [],
   "source": [
    "from module_Plot import Plotting\n",
    "\n",
    "import seaborn as sns\n",
    "import matplotlib.pyplot as plt\n",
    "from matplotlib import ticker, cm, colors\n",
    "\n",
    "import numpy as np\n",
    "import pandas as pd\n",
    "import os\n",
    "import copy\n",
    "import h5py\n",
    "\n",
    "plt.rcParams['axes.unicode_minus'] = False\n"
   ]
  },
  {
   "cell_type": "code",
   "execution_count": 2,
   "metadata": {
    "ExecuteTime": {
     "end_time": "2022-04-06T20:43:14.792607Z",
     "start_time": "2022-04-06T20:43:14.778620Z"
    }
   },
   "outputs": [],
   "source": [
    "sub_dir = 'used_data'\n",
    "loc_main = r'E:\\data\\_results\\common_radar'\n",
    "fn_csv = os.path.join(loc_main, sub_dir, 'TG_2D_rain_V06A.csv')\n",
    "fn_TRMMh5 = os.path.join(loc_main, sub_dir, 'TRMMKu_profile_rain_V06A.h5')\n",
    "fn_GPMh5 = os.path.join(loc_main, sub_dir, 'GPMKu_profile_rain_V06A.h5')\n",
    "\n",
    "fig_idxs = [f'({chr(ii)})' for ii in range(97, 123)]\n",
    "linestyles = ['-', '--', ':', '-.']\n",
    "\n",
    "add_text = False"
   ]
  },
  {
   "cell_type": "code",
   "execution_count": 3,
   "metadata": {
    "ExecuteTime": {
     "end_time": "2022-04-06T20:43:22.414779Z",
     "start_time": "2022-04-06T20:43:15.960158Z"
    }
   },
   "outputs": [
    {
     "name": "stdout",
     "output_type": "stream",
     "text": [
      "(217618, 35) [('TRMM', (217618, 176)), ('GPM', (217618, 176))]\n",
      "0.0 0.0\n",
      "Index(['Time_TRMMKu', 'Time_GPMKu', 'dlt_Dm', 'dlt_Tsec', 'orbitID_TRMMKu',\n",
      "       'loc_x_TRMMKu', 'loc_y_TRMMKu', 'orbitID_GPMKu', 'loc_x_GPMKu',\n",
      "       'loc_y_GPMKu', 'Lon_TRMMKu', 'Lat_TRMMKu', 'LocalHour_TRMMKu',\n",
      "       'nearSurfRain_TRMMKu', 'dBZ20_Htop_TRMMKu', 'dBZ35_Htop_TRMMKu',\n",
      "       'rainType_TRMMKu', 'HBB_TRMMKu', 'Lon_GPMKu', 'Lat_GPMKu',\n",
      "       'LocalHour_GPMKu', 'nearSurfRain_GPMKu', 'dBZ20_Htop_GPMKu',\n",
      "       'dBZ35_Htop_GPMKu', 'LandOcean_GPMKu', 'rainType_GPMKu', 'HBB_GPMKu',\n",
      "       'nearSurfdBZ_TRMMKu', 'surfRainPhase_TRMMKu', 'nearSurfdBZ_GPMKu',\n",
      "       'surfRainPhase_GPMKu', 'dBZ20_Npxl_TRMMKu', 'dBZ35_Npxl_TRMMKu',\n",
      "       'dBZ20_Npxl_GPMKu', 'dBZ35_Npxl_GPMKu'],\n",
      "      dtype='object')\n"
     ]
    }
   ],
   "source": [
    "df_TG = pd.read_csv(fn_csv, compression='gzip')\n",
    "h5_pro = {'TRMM': fn_TRMMh5, 'GPM': fn_GPMh5}\n",
    "\n",
    "da_pro = {}\n",
    "for key, fnh5 in h5_pro.items():\n",
    "    hold = h5py.File(fnh5, 'r')\n",
    "    da_pro[key] = hold[os.path.split(fnh5)[-1].split('_V')[0]][:]\n",
    "    da_pro[key][np.isnan(da_pro[key])] = 0\n",
    "    hold.close()\n",
    "print(df_TG.shape, [(key, val.shape) for key, val in da_pro.items()])\n",
    "print(da_pro['GPM'].min(), da_pro['TRMM'].min())\n",
    "print(df_TG.columns)"
   ]
  },
  {
   "cell_type": "code",
   "execution_count": 18,
   "metadata": {
    "ExecuteTime": {
     "end_time": "2022-04-07T00:49:10.111139Z",
     "start_time": "2022-04-07T00:49:10.060141Z"
    }
   },
   "outputs": [],
   "source": [
    "levs = np.array([1,5]+list(np.arange(10,101, 5)))  # percentage\n",
    "cb_labs = [1] + list(np.arange(10, 101, 10))\n",
    "bw = 0.5 # degree\n",
    "bins = [np.arange(-20, 20.000001, bw), np.arange(0, 16.01, 0.25)]\n",
    "bins_L =[[14, 50]]\n",
    "color_ax2  = 'purple'\n",
    "self_colors = ['gold','green','blue','red','purple']\n",
    "########\n",
    "def plot_pixel_dlt_pct_profile(fn, df, df_L, xykeys, hue='level_1', xykeys_L=['dBZ', 'Height'], ipanel=-1):\n",
    "    panel0, panel1 = False, False\n",
    "    if ipanel in [-1, 0]:\n",
    "        panel0 = True\n",
    "    elif ipanel in [-1, 1]:\n",
    "        panel1 = True\n",
    "    \n",
    "    plot = Plotting(global_xy=False, fontsize=14)\n",
    "    cmap = copy.copy((cm.get_cmap('rainbow')))    \n",
    "    \n",
    "    sns.set_context('talk', font_scale=1)\n",
    "    fig, ax = plt.subplots(nrows=1, ncols=2, figsize=(14, 6), sharey=True)\n",
    "    fig.subplots_adjust(wspace=0.11, hspace=0.15)\n",
    "    \n",
    "    ## ax[0]\n",
    "    X0, Y0 = np.array(0), np.array(0)\n",
    "    if panel1:\n",
    "        ii = 1\n",
    "        grid, Xedge, Yedge, _ = ax[ii].hist2d(df[xykeys[0]], df[xykeys[1]], bins=bins, visible=False) #\n",
    "\n",
    "        maxDA = int(grid.max())\n",
    "        print('Max_grid:', maxDA)\n",
    "        pctDA = 100*grid.T/maxDA\n",
    "\n",
    "        obj = ax[ii].pcolormesh(Xedge, Yedge, pctDA,\n",
    "                      cmap=cmap, shading='auto', \n",
    "                      norm=colors.BoundaryNorm(boundaries=levs, ncolors=cmap.N), \n",
    "                      edgecolors='none', alpha=1, zorder=2)\n",
    "        obj.cmap.set_under('white')\n",
    "        obj.cmap.set_over('firebrick')\n",
    "\n",
    "        ax[ii].set_xlim(bins[0].min(), bins[0].max())   \n",
    "        ax[ii].set_ylim(bins[1].min(), bins[1].max())   \n",
    "\n",
    "        ax[ii].xaxis.set_major_locator(ticker.MultipleLocator(5))\n",
    "        ax[ii].xaxis.set_minor_locator(ticker.MultipleLocator(1))\n",
    "        ax[ii].yaxis.set_major_locator(ticker.MultipleLocator(2))\n",
    "        ax[ii].yaxis.set_minor_locator(ticker.MultipleLocator(0.5))\n",
    "\n",
    "        ax[ii].set_xlabel(r'$\\Delta$Reflectivity (dBZ)')\n",
    "    #    ax[ii].set_ylabel('Height (km)')\n",
    "\n",
    "        cb_ax = ax[ii].inset_axes(bounds=[1.14, 0, 0.04, 0.98])\n",
    "        cb = fig.colorbar(obj, cb_ax, orientation='vertical') #'horizontal'\n",
    "        cb.set_ticks(cb_labs)\n",
    "        cb.set_ticklabels(cb_labs)\n",
    "        cb.ax.tick_params(direction='in', length=4)\n",
    "        cb.ax.tick_params(which='minor', direction='in', length=2)\n",
    "        cb.set_label(' Percent (%)', labelpad=1) #, fontdict={'fontsize': plot.fontsize}\n",
    "\n",
    "        obj0 = sns.lineplot(data=df, x=xykeys[1], y=xykeys[0], \n",
    "                     ax=ax[ii], ci=None, visible=False, legend=False)\n",
    "        Y0, X0 = obj0.lines[0].get_data()\n",
    "        TF_idx = np.where(Y0<12.5)    \n",
    "        ax[ii].plot(X0[TF_idx], Y0[TF_idx], color='k', linestyle='--', lw=3)\n",
    "\n",
    "        ax[ii].hlines(5.1875, xmin=bins[0].min(), xmax=bins[0].max(), color='k', linestyle=':', lw=2)\n",
    "        ax[ii].vlines(0, ymin=bins[1].min(), ymax=bins[1].max(), color='k', linestyle=':', lw=2)\n",
    "\n",
    "        ax2 = ax[ii].twinx()\n",
    "        sns.kdeplot(data=df, x=xykeys[0], bw_method=bw, ax=ax2, color=color_ax2, linewidth=4)\n",
    "        ax2.yaxis.set_minor_locator(ticker.MultipleLocator(0.01))\n",
    "        ax2.tick_params(axis='y', which='major', color=color_ax2, labelcolor=color_ax2)\n",
    "\n",
    "        ax2.text(x=0.98, y=0.98, s=f'Mean = {df[xykeys[0]].mean():.02f}\\nSTD = {df[xykeys[0]].std():.02f}', \n",
    "                 ma='right', ha='right', va='top', color=color_ax2, fontsize=16, transform=ax2.transAxes) #\n",
    "\n",
    "        yticks = ax2.get_yticks() \n",
    "        ax2.set_yticks(yticks)\n",
    "        ax2.set_yticklabels([f'{int(tick*100)}' for tick in yticks])\n",
    "        ax2.set_ylim([0, 0.095])\n",
    "\n",
    "        ax2.set_ylabel('Sample density (%)', color=color_ax2)\n",
    "        ax2.spines['right'].set_color('none')\n",
    "        ax[ii].spines['right'].set_color(color_ax2)\n",
    "\n",
    "        ax[ii].text(x=0.01, y=0.98, s=f'{fig_idxs[ii]}', \n",
    "                     ma='left', ha='left', va='top', color='black', transform=ax[ii].transAxes)\n",
    "\n",
    "    ### ax[1]\n",
    "    if panel0:\n",
    "        ii = 0\n",
    "        for key, ls in zip(sorted(set(df_L.keys())), linestyles[:df_L.__len__()]):\n",
    "            for idx, var in enumerate(df_L[key][hue].unique()):\n",
    "                data = df_L[key].query(f'{hue}==@var')\n",
    "                if key =='A': \n",
    "                    lab = ' '\n",
    "                else:\n",
    "                    lab = var.split('_')[0]\n",
    "                ax[ii].plot(data[xykeys_L[0]], data[xykeys_L[1]], color=self_colors[idx], linestyle=ls, linewidth=1, label=lab)\n",
    "        ax[ii].legend(fontsize=14, loc='upper right', bbox_to_anchor=(1, 0.95), \n",
    "                      ncol=2, title='TRMM   GPM          ', title_fontsize=14, columnspacing=0.8)\n",
    "\n",
    "        ax[ii].set_xlim(bins_L[0])\n",
    "        ax[ii].set_ylim(bins[1].min(), bins[1].max())\n",
    "\n",
    "        ax[ii].set_xlabel('Reflectivity (dBZ)')\n",
    "        ax[ii].set_ylabel('Height (km)')\n",
    "\n",
    "        ax[ii].xaxis.set_major_locator(ticker.MultipleLocator(5))\n",
    "        ax[ii].xaxis.set_minor_locator(ticker.MultipleLocator(1))\n",
    "        ax[ii].yaxis.set_major_locator(ticker.MultipleLocator(1))\n",
    "        ax[ii].yaxis.set_minor_locator(ticker.MultipleLocator(0.25))\n",
    "\n",
    "        ax[ii].text(x=0.01, y=0.98, s=f'{fig_idxs[ii]}', \n",
    "                     ma='left', ha='left', va='top', color='black', transform=ax[ii].transAxes)\n",
    "    \n",
    "    plot._save_fig(fn, fig)\n",
    "    del plot\n",
    "    return pd.DataFrame({'Height': Y0, 'dBZ_GmT': X0})\n",
    "\n",
    "\n",
    "titles = ['ALL', 'Convective', 'Stratiform']\n",
    "sfcType = {0: 'Ocean', 1: 'Land'}\n",
    "def plot_pixel_pct_profile(fn, df_L, xykeys, hue='level_1', xykeys_L=['dBZ', 'Height']):    \n",
    "    plot = Plotting(global_xy=False, fontsize=14)\n",
    "    cmap = copy.copy((cm.get_cmap('rainbow')))    \n",
    "    \n",
    "    sns.set_context('talk', font_scale=1)\n",
    "    nrows, ncols =2, 3\n",
    "    fig, ax = plt.subplots(nrows=nrows, ncols=ncols, figsize=(18, 12), sharex=True, sharey=True)\n",
    "    fig.subplots_adjust(wspace=0.15, hspace=0.15)\n",
    "    \n",
    "    for rdx in range(nrows):\n",
    "        for cdx in range(ncols):\n",
    "            iax = ax[rdx][cdx]\n",
    "            index = rdx*ncols+cdx\n",
    "            for key, ls in zip(sorted(set(df_L[index].keys())), linestyles[:df_L[index].__len__()]):\n",
    "                for idx, var in enumerate(df_L[index][key][hue].unique()):\n",
    "                    data = df_L[index][key].query(f'{hue}==@var')\n",
    "                    if key =='A': \n",
    "                        lab = ' '\n",
    "                    else:\n",
    "                        lab = var.split('_')[0]\n",
    "                    iax.plot(data[xykeys_L[0]], data[xykeys_L[1]], color=self_colors[idx], linestyle=ls, linewidth=1, label=lab)\n",
    "            if (rdx==0) & (cdx == 0):\n",
    "                iax.legend(fontsize=14, loc='upper right', #bbox_to_anchor=(1, 0.95), \n",
    "                              ncol=2, title='TRMM   GPM          ', title_fontsize=14, columnspacing=0.8)\n",
    "                iax.text(x=-0.2, y=0.1, s='Height (km)', rotation=90, \n",
    "                             ma='left', ha='left', va='top', color='black', transform=iax.transAxes)\n",
    "#                iax.set_ylabel('Height (km)')\n",
    "            else:\n",
    "                iax.set_ylabel('')\n",
    "\n",
    "            if (rdx==1) & (cdx == 1):\n",
    "                iax.set_xlabel('Reflectivity (dBZ)') \n",
    "            else:\n",
    "                iax.set_xlabel('')\n",
    "            if rdx == 0:\n",
    "                iax.set_title(titles[cdx])\n",
    "            iax.set_xlim(bins_L[0])\n",
    "            iax.set_ylim(bins[1].min(), bins[1].max())\n",
    "\n",
    "            iax.xaxis.set_major_locator(ticker.MultipleLocator(5))\n",
    "            iax.xaxis.set_minor_locator(ticker.MultipleLocator(1))\n",
    "            iax.yaxis.set_major_locator(ticker.MultipleLocator(2))\n",
    "            iax.yaxis.set_minor_locator(ticker.MultipleLocator(0.5))\n",
    "\n",
    "            iax.text(x=0.01, y=0.98, s=f'{fig_idxs[rdx*ncols+cdx]}', \n",
    "                             ma='left', ha='left', va='top', color='black', transform=iax.transAxes)\n",
    "            if cdx == 2:\n",
    "                iax.text(x=1.02, y=0.5,  # x=1.12  1.02\n",
    "                     s=f'{sfcType[1-rdx]}', rotation=90, \n",
    "                     ma='left', ha='left', va='center', color='black', transform=iax.transAxes)\n",
    "    \n",
    "    plot._save_fig(fn, fig)\n",
    "    del plot\n",
    "    return "
   ]
  },
  {
   "cell_type": "code",
   "execution_count": 20,
   "metadata": {
    "ExecuteTime": {
     "end_time": "2022-04-07T00:51:34.231140Z",
     "start_time": "2022-04-07T00:51:32.469137Z"
    }
   },
   "outputs": [
    {
     "name": "stdout",
     "output_type": "stream",
     "text": [
      "(27486,) (19036,) (8364,)\n",
      "(81373,) (53246,) (27800,)\n"
     ]
    }
   ],
   "source": [
    "# data-preparation for dlt\n",
    "hgt = {'dH': 0.125, 'HGT': np.arange(0., 22., 0.125)[::-1].astype(np.float32)}\n",
    "tmp_hgt = hgt['HGT'][np.newaxis,:]*np.ones(df_TG.shape[0])[:, np.newaxis]\n",
    "thh_dBZ_GPM, thh_dBZ_TRMM = 13, 18  # dBZ\n",
    "\n",
    "valid_idxs = df_TG.query(f'(nearSurfdBZ_GPMKu>={thh_dBZ_GPM})&(nearSurfdBZ_TRMMKu>={thh_dBZ_TRMM})&(LandOcean_GPMKu==1)').index.values\n",
    "#np.where(np.logical_and(df_TG['nearSurfdBZ_GPMKu'] >= thh_dBZ_GPM, df_TG['nearSurfdBZ_TRMMKu'] >= thh_dBZ_TRMM))[0]\n",
    "df_grp_l = pd.DataFrame({\n",
    "    'GPM': da_pro['GPM'][valid_idxs].ravel().astype(np.float32),\n",
    "    'TRMM': da_pro['TRMM'][valid_idxs].ravel().astype(np.float32),\n",
    "    'dBZ_GmT': da_pro['GPM'][valid_idxs].ravel().astype(np.float32) - da_pro['TRMM'][valid_idxs].ravel().astype(np.float32),\n",
    "    'Height': tmp_hgt[valid_idxs].ravel(),\n",
    "#    'LandOcean': (np.ones(hgt['HGT'].shape[0])[np.newaxis,:]*df_TG.loc[valid_idxs, 'LandOcean_GPMKu'].values[:, np.newaxis]).ravel().astype(np.int32)\n",
    "}).reset_index(drop=True)\n",
    "\n",
    "\n",
    "strat_idxs = df_TG.query(f'(nearSurfdBZ_GPMKu>={thh_dBZ_GPM})&(nearSurfdBZ_TRMMKu>={thh_dBZ_TRMM})&(rainType_GPMKu==1)&(LandOcean_GPMKu==1)').index.values # stratiform\n",
    "df_S_l = pd.DataFrame({\n",
    "    'GPM': da_pro['GPM'][strat_idxs].ravel().astype(np.float32),\n",
    "    'TRMM': da_pro['TRMM'][strat_idxs].ravel().astype(np.float32),\n",
    "    'dBZ_GmT': da_pro['GPM'][strat_idxs].ravel().astype(np.float32) - da_pro['TRMM'][strat_idxs].ravel().astype(np.float32),\n",
    "    'Height': tmp_hgt[strat_idxs].ravel(),\n",
    "#    'LandOcean': (np.ones(hgt['HGT'].shape[0])[np.newaxis,:]*df_TG.loc[strat_idxs, 'LandOcean_GPMKu'].values[:, np.newaxis]).ravel().astype(np.int32)\n",
    "}).reset_index(drop=True)\n",
    "\n",
    "conv_idxs = df_TG.query(f'(nearSurfdBZ_GPMKu>={thh_dBZ_GPM})&(nearSurfdBZ_TRMMKu>={thh_dBZ_TRMM})&(rainType_GPMKu==2)&(LandOcean_GPMKu==1)').index.values # convective\n",
    "df_C_l = pd.DataFrame({\n",
    "    'GPM': da_pro['GPM'][conv_idxs].ravel().astype(np.float32),\n",
    "    'TRMM': da_pro['TRMM'][conv_idxs].ravel().astype(np.float32),\n",
    "    'dBZ_GmT': da_pro['GPM'][conv_idxs].ravel().astype(np.float32) - da_pro['TRMM'][conv_idxs].ravel().astype(np.float32),\n",
    "    'Height': tmp_hgt[conv_idxs].ravel(),\n",
    "#    'LandOcean': (np.ones(hgt['HGT'].shape[0])[np.newaxis,:]*df_TG.loc[conv_idxs, 'LandOcean_GPMKu'].values[:, np.newaxis]).ravel().astype(np.int32)\n",
    "}).reset_index(drop=True)\n",
    "\n",
    "print(valid_idxs.shape, strat_idxs.shape, conv_idxs.shape)\n",
    "\n",
    "valid_idxs = df_TG.query(f'(nearSurfdBZ_GPMKu>={thh_dBZ_GPM})&(nearSurfdBZ_TRMMKu>={thh_dBZ_TRMM})&(LandOcean_GPMKu==0)').index.values\n",
    "#np.where(np.logical_and(df_TG['nearSurfdBZ_GPMKu'] >= thh_dBZ_GPM, df_TG['nearSurfdBZ_TRMMKu'] >= thh_dBZ_TRMM))[0]\n",
    "df_grp_o = pd.DataFrame({\n",
    "    'GPM': da_pro['GPM'][valid_idxs].ravel().astype(np.float32),\n",
    "    'TRMM': da_pro['TRMM'][valid_idxs].ravel().astype(np.float32),\n",
    "    'dBZ_GmT': da_pro['GPM'][valid_idxs].ravel().astype(np.float32) - da_pro['TRMM'][valid_idxs].ravel().astype(np.float32),\n",
    "    'Height': tmp_hgt[valid_idxs].ravel(),\n",
    "#    'LandOcean': (np.ones(hgt['HGT'].shape[0])[np.newaxis,:]*df_TG.loc[valid_idxs, 'LandOcean_GPMKu'].values[:, np.newaxis]).ravel().astype(np.int32)\n",
    "}).reset_index(drop=True)\n",
    "\n",
    "\n",
    "strat_idxs = df_TG.query(f'(nearSurfdBZ_GPMKu>={thh_dBZ_GPM})&(nearSurfdBZ_TRMMKu>={thh_dBZ_TRMM})&(rainType_GPMKu==1)&(LandOcean_GPMKu==0)').index.values # stratiform\n",
    "df_S_o = pd.DataFrame({\n",
    "    'GPM': da_pro['GPM'][strat_idxs].ravel().astype(np.float32),\n",
    "    'TRMM': da_pro['TRMM'][strat_idxs].ravel().astype(np.float32),\n",
    "    'dBZ_GmT': da_pro['GPM'][strat_idxs].ravel().astype(np.float32) - da_pro['TRMM'][strat_idxs].ravel().astype(np.float32),\n",
    "    'Height': tmp_hgt[strat_idxs].ravel(),\n",
    "#    'LandOcean': (np.ones(hgt['HGT'].shape[0])[np.newaxis,:]*df_TG.loc[strat_idxs, 'LandOcean_GPMKu'].values[:, np.newaxis]).ravel().astype(np.int32)\n",
    "}).reset_index(drop=True)\n",
    "\n",
    "conv_idxs = df_TG.query(f'(nearSurfdBZ_GPMKu>={thh_dBZ_GPM})&(nearSurfdBZ_TRMMKu>={thh_dBZ_TRMM})&(rainType_GPMKu==2)&(LandOcean_GPMKu==0)').index.values # convective\n",
    "df_C_o = pd.DataFrame({\n",
    "    'GPM': da_pro['GPM'][conv_idxs].ravel().astype(np.float32),\n",
    "    'TRMM': da_pro['TRMM'][conv_idxs].ravel().astype(np.float32),\n",
    "    'dBZ_GmT': da_pro['GPM'][conv_idxs].ravel().astype(np.float32) - da_pro['TRMM'][conv_idxs].ravel().astype(np.float32),\n",
    "    'Height': tmp_hgt[conv_idxs].ravel(),\n",
    "#    'LandOcean': (np.ones(hgt['HGT'].shape[0])[np.newaxis,:]*df_TG.loc[conv_idxs, 'LandOcean_GPMKu'].values[:, np.newaxis]).ravel().astype(np.int32)\n",
    "}).reset_index(drop=True)\n",
    "\n",
    "\n",
    "print(valid_idxs.shape, strat_idxs.shape, conv_idxs.shape)"
   ]
  },
  {
   "cell_type": "code",
   "execution_count": 21,
   "metadata": {
    "ExecuteTime": {
     "end_time": "2022-04-07T00:51:41.917138Z",
     "start_time": "2022-04-07T00:51:41.880140Z"
    }
   },
   "outputs": [
    {
     "data": {
      "text/plain": [
       "110783"
      ]
     },
     "execution_count": 21,
     "metadata": {},
     "output_type": "execute_result"
    }
   ],
   "source": [
    "df_TG.query(f'(nearSurfdBZ_GPMKu>={thh_dBZ_GPM})&(nearSurfdBZ_TRMMKu>={thh_dBZ_TRMM})').shape[0]"
   ]
  },
  {
   "cell_type": "code",
   "execution_count": 22,
   "metadata": {
    "ExecuteTime": {
     "end_time": "2022-04-07T00:52:20.491138Z",
     "start_time": "2022-04-07T00:51:46.228140Z"
    }
   },
   "outputs": [],
   "source": [
    "# data-preparation for pct\n",
    "'''\n",
    "df_grp['Height250'] = df_grp.loc[:, 'Height']*100\n",
    "df_grp['Height250'] = df_grp['Height250'].apply(lambda v: v if v%1 == 0 else v-12.5)\n",
    "df_grp['Height250'] = df_grp['Height250']/100\n",
    "'''\n",
    "#########\n",
    "hgtCol = 'Height'\n",
    "percentage = [0.25,0.5,0.75,0.95]\n",
    "PCT_dBZ = [{}, {}, {}, {}, {}, {}]\n",
    "\n",
    "for idx, idf in enumerate([df_grp_l, df_C_l, df_S_l, df_grp_o, df_C_o, df_S_o]):\n",
    "    tmpdf = idf.groupby(hgtCol)\n",
    "    PCT_dBZ[idx]['A'] = tmpdf['TRMM'].quantile(q=percentage).reset_index()\n",
    "    PCT_dBZ[idx]['A']['level_1'] = (PCT_dBZ[idx]['A']['level_1']*100).apply(lambda v: f'{v:.0f}%_TRMM')\n",
    "    PCT_dBZ[idx]['A'].rename(columns={'TRMM': 'dBZ'}, inplace=True)\n",
    "    PCT_dBZ[idx]['A'].loc[PCT_dBZ[idx]['A']['dBZ']==0, 'dBZ'] = np.nan\n",
    "\n",
    "    PCT_dBZ[idx]['B'] = tmpdf['GPM'].quantile(q=percentage).reset_index()\n",
    "    PCT_dBZ[idx]['B']['level_1'] = (PCT_dBZ[idx]['B']['level_1']*100).apply(lambda v: f'{v:.0f}%_GPM')\n",
    "    PCT_dBZ[idx]['B'].rename(columns={'GPM': 'dBZ'}, inplace=True)\n",
    "    PCT_dBZ[idx]['B'].loc[PCT_dBZ[idx]['B']['dBZ']==0, 'dBZ'] = np.nan\n",
    "    \n",
    "    del tmpdf\n",
    "#####################"
   ]
  },
  {
   "cell_type": "code",
   "execution_count": 23,
   "metadata": {
    "ExecuteTime": {
     "end_time": "2022-04-07T00:52:31.939138Z",
     "start_time": "2022-04-07T00:52:20.748139Z"
    }
   },
   "outputs": [],
   "source": [
    "name = 'stat_GmT_dBZ_profiles'\n",
    "'''\n",
    "resdf = plot_pixel_dlt_pct_profile(name, df_grp, PCT_dBZ, xykeys=['dBZ_GmT', 'Height'], \n",
    "                                   hue='level_1', xykeys_L=['dBZ', hgtCol], ipanel=0)\n",
    "pd.set_option('display.max_rows', None)\n",
    "resdf\n",
    "'''\n",
    "plot_pixel_pct_profile(name, PCT_dBZ, xykeys=['dBZ_GmT', 'Height'], \n",
    "                                   hue='level_1', xykeys_L=['dBZ', hgtCol])\n"
   ]
  },
  {
   "cell_type": "code",
   "execution_count": null,
   "metadata": {},
   "outputs": [],
   "source": []
  }
 ],
 "metadata": {
  "kernelspec": {
   "display_name": "Python 3",
   "language": "python",
   "name": "python3"
  },
  "language_info": {
   "codemirror_mode": {
    "name": "ipython",
    "version": 3
   },
   "file_extension": ".py",
   "mimetype": "text/x-python",
   "name": "python",
   "nbconvert_exporter": "python",
   "pygments_lexer": "ipython3",
   "version": "3.8.3"
  },
  "latex_envs": {
   "LaTeX_envs_menu_present": true,
   "autoclose": false,
   "autocomplete": true,
   "bibliofile": "biblio.bib",
   "cite_by": "apalike",
   "current_citInitial": 1,
   "eqLabelWithNumbers": true,
   "eqNumInitial": 1,
   "hotkeys": {
    "equation": "Ctrl-E",
    "itemize": "Ctrl-I"
   },
   "labels_anchors": false,
   "latex_user_defs": false,
   "report_style_numbering": false,
   "user_envs_cfg": false
  },
  "toc": {
   "base_numbering": 1,
   "nav_menu": {},
   "number_sections": true,
   "sideBar": true,
   "skip_h1_title": false,
   "title_cell": "Table of Contents",
   "title_sidebar": "Contents",
   "toc_cell": false,
   "toc_position": {},
   "toc_section_display": true,
   "toc_window_display": false
  },
  "varInspector": {
   "cols": {
    "lenName": 16,
    "lenType": 16,
    "lenVar": 40
   },
   "kernels_config": {
    "python": {
     "delete_cmd_postfix": "",
     "delete_cmd_prefix": "del ",
     "library": "var_list.py",
     "varRefreshCmd": "print(var_dic_list())"
    },
    "r": {
     "delete_cmd_postfix": ") ",
     "delete_cmd_prefix": "rm(",
     "library": "var_list.r",
     "varRefreshCmd": "cat(var_dic_list()) "
    }
   },
   "types_to_exclude": [
    "module",
    "function",
    "builtin_function_or_method",
    "instance",
    "_Feature"
   ],
   "window_display": false
  }
 },
 "nbformat": 4,
 "nbformat_minor": 4
}
